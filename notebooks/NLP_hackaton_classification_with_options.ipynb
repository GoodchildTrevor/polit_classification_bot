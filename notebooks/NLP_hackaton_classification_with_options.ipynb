{
  "cells": [
    {
      "cell_type": "markdown",
      "id": "Ssx8mqyb2Chp",
      "metadata": {
        "id": "Ssx8mqyb2Chp"
      },
      "source": [
        "# **Пример с хаггинфэйс на претренированном датасете**"
      ]
    },
    {
      "cell_type": "code",
      "execution_count": 1,
      "id": "a5ab265495d40283",
      "metadata": {
        "colab": {
          "base_uri": "https://localhost:8080/"
        },
        "id": "a5ab265495d40283",
        "outputId": "bfa93268-6bd0-4ffd-b881-b47f7864b799"
      },
      "outputs": [
        {
          "output_type": "stream",
          "name": "stderr",
          "text": [
            "Hardware accelerator e.g. GPU is available in the environment, but no `device` argument is passed to the `Pipeline` object. Model will be on CPU.\n"
          ]
        },
        {
          "output_type": "stream",
          "name": "stdout",
          "text": [
            "{'sequence': 'Тейлор Свифт поп и кантри певица', 'labels': ['entertainment', 'environment', 'economy', 'politics'], 'scores': [0.8593410849571228, 0.05369015410542488, 0.049566809087991714, 0.03740197792649269]}\n"
          ]
        }
      ],
      "source": [
        "from transformers import pipeline\n",
        "\n",
        "classifier = pipeline(\"zero-shot-classification\", model=\"MoritzLaurer/mDeBERTa-v3-base-mnli-xnli\")\n",
        "\n",
        "sequence_to_classify = \"Тейлор Свифт поп и кантри певица\"\n",
        "candidate_labels = [\"politics\", \"economy\", \"entertainment\", \"environment\"]\n",
        "\n",
        "output = classifier(sequence_to_classify, candidate_labels, multi_label=False)\n",
        "print(output)"
      ]
    },
    {
      "cell_type": "code",
      "execution_count": 2,
      "id": "5gFtkGiqwlzi",
      "metadata": {
        "colab": {
          "base_uri": "https://localhost:8080/"
        },
        "id": "5gFtkGiqwlzi",
        "outputId": "582625aa-70c9-4019-cde8-e59e75b44b4d"
      },
      "outputs": [
        {
          "output_type": "stream",
          "name": "stdout",
          "text": [
            "Requirement already satisfied: transformers in /usr/local/lib/python3.10/dist-packages (4.42.4)\n",
            "Requirement already satisfied: datasets in /usr/local/lib/python3.10/dist-packages (2.20.0)\n",
            "Requirement already satisfied: evaluate in /usr/local/lib/python3.10/dist-packages (0.4.2)\n",
            "Requirement already satisfied: accelerate in /usr/local/lib/python3.10/dist-packages (0.32.1)\n",
            "Requirement already satisfied: filelock in /usr/local/lib/python3.10/dist-packages (from transformers) (3.15.4)\n",
            "Requirement already satisfied: huggingface-hub<1.0,>=0.23.2 in /usr/local/lib/python3.10/dist-packages (from transformers) (0.23.5)\n",
            "Requirement already satisfied: numpy<2.0,>=1.17 in /usr/local/lib/python3.10/dist-packages (from transformers) (1.26.4)\n",
            "Requirement already satisfied: packaging>=20.0 in /usr/local/lib/python3.10/dist-packages (from transformers) (24.1)\n",
            "Requirement already satisfied: pyyaml>=5.1 in /usr/local/lib/python3.10/dist-packages (from transformers) (6.0.1)\n",
            "Requirement already satisfied: regex!=2019.12.17 in /usr/local/lib/python3.10/dist-packages (from transformers) (2024.5.15)\n",
            "Requirement already satisfied: requests in /usr/local/lib/python3.10/dist-packages (from transformers) (2.32.3)\n",
            "Requirement already satisfied: safetensors>=0.4.1 in /usr/local/lib/python3.10/dist-packages (from transformers) (0.4.3)\n",
            "Requirement already satisfied: tokenizers<0.20,>=0.19 in /usr/local/lib/python3.10/dist-packages (from transformers) (0.19.1)\n",
            "Requirement already satisfied: tqdm>=4.27 in /usr/local/lib/python3.10/dist-packages (from transformers) (4.66.4)\n",
            "Requirement already satisfied: pyarrow>=15.0.0 in /usr/local/lib/python3.10/dist-packages (from datasets) (17.0.0)\n",
            "Requirement already satisfied: pyarrow-hotfix in /usr/local/lib/python3.10/dist-packages (from datasets) (0.6)\n",
            "Requirement already satisfied: dill<0.3.9,>=0.3.0 in /usr/local/lib/python3.10/dist-packages (from datasets) (0.3.8)\n",
            "Requirement already satisfied: pandas in /usr/local/lib/python3.10/dist-packages (from datasets) (2.1.4)\n",
            "Requirement already satisfied: xxhash in /usr/local/lib/python3.10/dist-packages (from datasets) (3.4.1)\n",
            "Requirement already satisfied: multiprocess in /usr/local/lib/python3.10/dist-packages (from datasets) (0.70.16)\n",
            "Requirement already satisfied: fsspec<=2024.5.0,>=2023.1.0 in /usr/local/lib/python3.10/dist-packages (from fsspec[http]<=2024.5.0,>=2023.1.0->datasets) (2024.5.0)\n",
            "Requirement already satisfied: aiohttp in /usr/local/lib/python3.10/dist-packages (from datasets) (3.9.5)\n",
            "Requirement already satisfied: psutil in /usr/local/lib/python3.10/dist-packages (from accelerate) (5.9.5)\n",
            "Requirement already satisfied: torch>=1.10.0 in /usr/local/lib/python3.10/dist-packages (from accelerate) (2.3.1+cu121)\n",
            "Requirement already satisfied: aiosignal>=1.1.2 in /usr/local/lib/python3.10/dist-packages (from aiohttp->datasets) (1.3.1)\n",
            "Requirement already satisfied: attrs>=17.3.0 in /usr/local/lib/python3.10/dist-packages (from aiohttp->datasets) (23.2.0)\n",
            "Requirement already satisfied: frozenlist>=1.1.1 in /usr/local/lib/python3.10/dist-packages (from aiohttp->datasets) (1.4.1)\n",
            "Requirement already satisfied: multidict<7.0,>=4.5 in /usr/local/lib/python3.10/dist-packages (from aiohttp->datasets) (6.0.5)\n",
            "Requirement already satisfied: yarl<2.0,>=1.0 in /usr/local/lib/python3.10/dist-packages (from aiohttp->datasets) (1.9.4)\n",
            "Requirement already satisfied: async-timeout<5.0,>=4.0 in /usr/local/lib/python3.10/dist-packages (from aiohttp->datasets) (4.0.3)\n",
            "Requirement already satisfied: typing-extensions>=3.7.4.3 in /usr/local/lib/python3.10/dist-packages (from huggingface-hub<1.0,>=0.23.2->transformers) (4.12.2)\n",
            "Requirement already satisfied: charset-normalizer<4,>=2 in /usr/local/lib/python3.10/dist-packages (from requests->transformers) (3.3.2)\n",
            "Requirement already satisfied: idna<4,>=2.5 in /usr/local/lib/python3.10/dist-packages (from requests->transformers) (3.7)\n",
            "Requirement already satisfied: urllib3<3,>=1.21.1 in /usr/local/lib/python3.10/dist-packages (from requests->transformers) (2.0.7)\n",
            "Requirement already satisfied: certifi>=2017.4.17 in /usr/local/lib/python3.10/dist-packages (from requests->transformers) (2024.7.4)\n",
            "Requirement already satisfied: sympy in /usr/local/lib/python3.10/dist-packages (from torch>=1.10.0->accelerate) (1.13.1)\n",
            "Requirement already satisfied: networkx in /usr/local/lib/python3.10/dist-packages (from torch>=1.10.0->accelerate) (3.3)\n",
            "Requirement already satisfied: jinja2 in /usr/local/lib/python3.10/dist-packages (from torch>=1.10.0->accelerate) (3.1.4)\n",
            "Requirement already satisfied: nvidia-cuda-nvrtc-cu12==12.1.105 in /usr/local/lib/python3.10/dist-packages (from torch>=1.10.0->accelerate) (12.1.105)\n",
            "Requirement already satisfied: nvidia-cuda-runtime-cu12==12.1.105 in /usr/local/lib/python3.10/dist-packages (from torch>=1.10.0->accelerate) (12.1.105)\n",
            "Requirement already satisfied: nvidia-cuda-cupti-cu12==12.1.105 in /usr/local/lib/python3.10/dist-packages (from torch>=1.10.0->accelerate) (12.1.105)\n",
            "Requirement already satisfied: nvidia-cudnn-cu12==8.9.2.26 in /usr/local/lib/python3.10/dist-packages (from torch>=1.10.0->accelerate) (8.9.2.26)\n",
            "Requirement already satisfied: nvidia-cublas-cu12==12.1.3.1 in /usr/local/lib/python3.10/dist-packages (from torch>=1.10.0->accelerate) (12.1.3.1)\n",
            "Requirement already satisfied: nvidia-cufft-cu12==11.0.2.54 in /usr/local/lib/python3.10/dist-packages (from torch>=1.10.0->accelerate) (11.0.2.54)\n",
            "Requirement already satisfied: nvidia-curand-cu12==10.3.2.106 in /usr/local/lib/python3.10/dist-packages (from torch>=1.10.0->accelerate) (10.3.2.106)\n",
            "Requirement already satisfied: nvidia-cusolver-cu12==11.4.5.107 in /usr/local/lib/python3.10/dist-packages (from torch>=1.10.0->accelerate) (11.4.5.107)\n",
            "Requirement already satisfied: nvidia-cusparse-cu12==12.1.0.106 in /usr/local/lib/python3.10/dist-packages (from torch>=1.10.0->accelerate) (12.1.0.106)\n",
            "Requirement already satisfied: nvidia-nccl-cu12==2.20.5 in /usr/local/lib/python3.10/dist-packages (from torch>=1.10.0->accelerate) (2.20.5)\n",
            "Requirement already satisfied: nvidia-nvtx-cu12==12.1.105 in /usr/local/lib/python3.10/dist-packages (from torch>=1.10.0->accelerate) (12.1.105)\n",
            "Requirement already satisfied: triton==2.3.1 in /usr/local/lib/python3.10/dist-packages (from torch>=1.10.0->accelerate) (2.3.1)\n",
            "Requirement already satisfied: nvidia-nvjitlink-cu12 in /usr/local/lib/python3.10/dist-packages (from nvidia-cusolver-cu12==11.4.5.107->torch>=1.10.0->accelerate) (12.5.82)\n",
            "Requirement already satisfied: python-dateutil>=2.8.2 in /usr/local/lib/python3.10/dist-packages (from pandas->datasets) (2.8.2)\n",
            "Requirement already satisfied: pytz>=2020.1 in /usr/local/lib/python3.10/dist-packages (from pandas->datasets) (2024.1)\n",
            "Requirement already satisfied: tzdata>=2022.1 in /usr/local/lib/python3.10/dist-packages (from pandas->datasets) (2024.1)\n",
            "Requirement already satisfied: six>=1.5 in /usr/local/lib/python3.10/dist-packages (from python-dateutil>=2.8.2->pandas->datasets) (1.16.0)\n",
            "Requirement already satisfied: MarkupSafe>=2.0 in /usr/local/lib/python3.10/dist-packages (from jinja2->torch>=1.10.0->accelerate) (2.1.5)\n",
            "Requirement already satisfied: mpmath<1.4,>=1.1.0 in /usr/local/lib/python3.10/dist-packages (from sympy->torch>=1.10.0->accelerate) (1.3.0)\n"
          ]
        }
      ],
      "source": [
        "pip install transformers datasets evaluate accelerate"
      ]
    },
    {
      "cell_type": "code",
      "execution_count": 4,
      "id": "OOq_a-cCA1z5",
      "metadata": {
        "id": "OOq_a-cCA1z5",
        "colab": {
          "base_uri": "https://localhost:8080/"
        },
        "outputId": "045a830b-e9ba-416f-eff7-57695f403712"
      },
      "outputs": [
        {
          "output_type": "stream",
          "name": "stdout",
          "text": [
            "Requirement already satisfied: optuna in /usr/local/lib/python3.10/dist-packages (3.6.1)\n",
            "Requirement already satisfied: alembic>=1.5.0 in /usr/local/lib/python3.10/dist-packages (from optuna) (1.13.2)\n",
            "Requirement already satisfied: colorlog in /usr/local/lib/python3.10/dist-packages (from optuna) (6.8.2)\n",
            "Requirement already satisfied: numpy in /usr/local/lib/python3.10/dist-packages (from optuna) (1.26.4)\n",
            "Requirement already satisfied: packaging>=20.0 in /usr/local/lib/python3.10/dist-packages (from optuna) (24.1)\n",
            "Requirement already satisfied: sqlalchemy>=1.3.0 in /usr/local/lib/python3.10/dist-packages (from optuna) (2.0.31)\n",
            "Requirement already satisfied: tqdm in /usr/local/lib/python3.10/dist-packages (from optuna) (4.66.4)\n",
            "Requirement already satisfied: PyYAML in /usr/local/lib/python3.10/dist-packages (from optuna) (6.0.1)\n",
            "Requirement already satisfied: Mako in /usr/local/lib/python3.10/dist-packages (from alembic>=1.5.0->optuna) (1.3.5)\n",
            "Requirement already satisfied: typing-extensions>=4 in /usr/local/lib/python3.10/dist-packages (from alembic>=1.5.0->optuna) (4.12.2)\n",
            "Requirement already satisfied: greenlet!=0.4.17 in /usr/local/lib/python3.10/dist-packages (from sqlalchemy>=1.3.0->optuna) (3.0.3)\n",
            "Requirement already satisfied: MarkupSafe>=0.9.2 in /usr/local/lib/python3.10/dist-packages (from Mako->alembic>=1.5.0->optuna) (2.1.5)\n"
          ]
        }
      ],
      "source": [
        "!pip install optuna\n",
        "import numpy as np\n",
        "import pandas as pd\n",
        "import matplotlib.pyplot as plt\n",
        "import seaborn as sns\n",
        "import optuna\n",
        "from sklearn.model_selection import train_test_split\n",
        "from sklearn.feature_extraction.text import TfidfVectorizer\n",
        "from sklearn.linear_model import LogisticRegression\n",
        "from sklearn.metrics import classification_report\n",
        "from sklearn.tree import DecisionTreeClassifier\n",
        "from sklearn.ensemble import RandomForestClassifier\n",
        "from sklearn.metrics import accuracy_score"
      ]
    },
    {
      "cell_type": "markdown",
      "source": [
        "# **Датасет lenta.ru 2019-2023**"
      ],
      "metadata": {
        "id": "F8a0Cb015eSh"
      },
      "id": "F8a0Cb015eSh"
    },
    {
      "cell_type": "code",
      "source": [
        "from google.colab import drive\n",
        "drive.mount('/content/drive')"
      ],
      "metadata": {
        "colab": {
          "base_uri": "https://localhost:8080/"
        },
        "id": "xVa6ZaVRbAsi",
        "outputId": "18344da1-0d05-4003-93eb-a4086b33c9be"
      },
      "id": "xVa6ZaVRbAsi",
      "execution_count": 5,
      "outputs": [
        {
          "output_type": "stream",
          "name": "stdout",
          "text": [
            "Drive already mounted at /content/drive; to attempt to forcibly remount, call drive.mount(\"/content/drive\", force_remount=True).\n"
          ]
        }
      ]
    },
    {
      "cell_type": "code",
      "source": [
        "file_path = '/content/drive/MyDrive/lenta_ru_news_2019_2023.csv'\n",
        "df = pd.read_csv(file_path, sep=',', header=0)"
      ],
      "metadata": {
        "id": "sCbkFHXsbJ2e"
      },
      "id": "sCbkFHXsbJ2e",
      "execution_count": 6,
      "outputs": []
    },
    {
      "cell_type": "code",
      "execution_count": 7,
      "id": "-Jd1mFYDAeml",
      "metadata": {
        "colab": {
          "base_uri": "https://localhost:8080/",
          "height": 293
        },
        "id": "-Jd1mFYDAeml",
        "outputId": "042e6929-7166-4878-8915-ef5bd083fa25"
      },
      "outputs": [
        {
          "output_type": "execute_result",
          "data": {
            "text/plain": [
              "                                       url  \\\n",
              "0   https://lenta.ru/news/2019/12/15/prsm/   \n",
              "1     https://lenta.ru/news/2019/12/15/fb/   \n",
              "2   https://lenta.ru/news/2019/12/15/kino/   \n",
              "3   https://lenta.ru/news/2019/12/15/alba/   \n",
              "4  https://lenta.ru/news/2019/12/15/anons/   \n",
              "\n",
              "                                               title  \\\n",
              "0                Россиянам дали советы по выбору чая   \n",
              "1  В Госдуме назвали японское заявление о Курилах...   \n",
              "2  Украинская ЛГБТ-активистка обвинила ню-фотогра...   \n",
              "3  Полицейские застрелили порезавшего мать буйног...   \n",
              "4       Беглого президента Боливии решили арестовать   \n",
              "\n",
              "                                                text              topic  \\\n",
              "0  Россиянам дали советы при выборе чая. Рекоменд...             Россия   \n",
              "1  Спикер Госдумы Вячеслав Володин назвал угрозой...             Россия   \n",
              "2  Украинская ЛГБТ-активистка Виктория Гуйвик обв...           Культура   \n",
              "3  В Москве полицейские застрелили мужчину при по...  Силовые структуры   \n",
              "4  Исполняющая обязанности президента Боливии Жан...                Мир   \n",
              "\n",
              "         tags        date  \n",
              "0    Общество  2019-12-15  \n",
              "1    Политика  2019-12-15  \n",
              "2  Фотография  2019-12-15  \n",
              "3    Криминал  2019-12-15  \n",
              "4    Политика  2019-12-15  "
            ],
            "text/html": [
              "\n",
              "  <div id=\"df-bad7a9e1-2003-46e8-9916-b76c71d75f10\" class=\"colab-df-container\">\n",
              "    <div>\n",
              "<style scoped>\n",
              "    .dataframe tbody tr th:only-of-type {\n",
              "        vertical-align: middle;\n",
              "    }\n",
              "\n",
              "    .dataframe tbody tr th {\n",
              "        vertical-align: top;\n",
              "    }\n",
              "\n",
              "    .dataframe thead th {\n",
              "        text-align: right;\n",
              "    }\n",
              "</style>\n",
              "<table border=\"1\" class=\"dataframe\">\n",
              "  <thead>\n",
              "    <tr style=\"text-align: right;\">\n",
              "      <th></th>\n",
              "      <th>url</th>\n",
              "      <th>title</th>\n",
              "      <th>text</th>\n",
              "      <th>topic</th>\n",
              "      <th>tags</th>\n",
              "      <th>date</th>\n",
              "    </tr>\n",
              "  </thead>\n",
              "  <tbody>\n",
              "    <tr>\n",
              "      <th>0</th>\n",
              "      <td>https://lenta.ru/news/2019/12/15/prsm/</td>\n",
              "      <td>Россиянам дали советы по выбору чая</td>\n",
              "      <td>Россиянам дали советы при выборе чая. Рекоменд...</td>\n",
              "      <td>Россия</td>\n",
              "      <td>Общество</td>\n",
              "      <td>2019-12-15</td>\n",
              "    </tr>\n",
              "    <tr>\n",
              "      <th>1</th>\n",
              "      <td>https://lenta.ru/news/2019/12/15/fb/</td>\n",
              "      <td>В Госдуме назвали японское заявление о Курилах...</td>\n",
              "      <td>Спикер Госдумы Вячеслав Володин назвал угрозой...</td>\n",
              "      <td>Россия</td>\n",
              "      <td>Политика</td>\n",
              "      <td>2019-12-15</td>\n",
              "    </tr>\n",
              "    <tr>\n",
              "      <th>2</th>\n",
              "      <td>https://lenta.ru/news/2019/12/15/kino/</td>\n",
              "      <td>Украинская ЛГБТ-активистка обвинила ню-фотогра...</td>\n",
              "      <td>Украинская ЛГБТ-активистка Виктория Гуйвик обв...</td>\n",
              "      <td>Культура</td>\n",
              "      <td>Фотография</td>\n",
              "      <td>2019-12-15</td>\n",
              "    </tr>\n",
              "    <tr>\n",
              "      <th>3</th>\n",
              "      <td>https://lenta.ru/news/2019/12/15/alba/</td>\n",
              "      <td>Полицейские застрелили порезавшего мать буйног...</td>\n",
              "      <td>В Москве полицейские застрелили мужчину при по...</td>\n",
              "      <td>Силовые структуры</td>\n",
              "      <td>Криминал</td>\n",
              "      <td>2019-12-15</td>\n",
              "    </tr>\n",
              "    <tr>\n",
              "      <th>4</th>\n",
              "      <td>https://lenta.ru/news/2019/12/15/anons/</td>\n",
              "      <td>Беглого президента Боливии решили арестовать</td>\n",
              "      <td>Исполняющая обязанности президента Боливии Жан...</td>\n",
              "      <td>Мир</td>\n",
              "      <td>Политика</td>\n",
              "      <td>2019-12-15</td>\n",
              "    </tr>\n",
              "  </tbody>\n",
              "</table>\n",
              "</div>\n",
              "    <div class=\"colab-df-buttons\">\n",
              "\n",
              "  <div class=\"colab-df-container\">\n",
              "    <button class=\"colab-df-convert\" onclick=\"convertToInteractive('df-bad7a9e1-2003-46e8-9916-b76c71d75f10')\"\n",
              "            title=\"Convert this dataframe to an interactive table.\"\n",
              "            style=\"display:none;\">\n",
              "\n",
              "  <svg xmlns=\"http://www.w3.org/2000/svg\" height=\"24px\" viewBox=\"0 -960 960 960\">\n",
              "    <path d=\"M120-120v-720h720v720H120Zm60-500h600v-160H180v160Zm220 220h160v-160H400v160Zm0 220h160v-160H400v160ZM180-400h160v-160H180v160Zm440 0h160v-160H620v160ZM180-180h160v-160H180v160Zm440 0h160v-160H620v160Z\"/>\n",
              "  </svg>\n",
              "    </button>\n",
              "\n",
              "  <style>\n",
              "    .colab-df-container {\n",
              "      display:flex;\n",
              "      gap: 12px;\n",
              "    }\n",
              "\n",
              "    .colab-df-convert {\n",
              "      background-color: #E8F0FE;\n",
              "      border: none;\n",
              "      border-radius: 50%;\n",
              "      cursor: pointer;\n",
              "      display: none;\n",
              "      fill: #1967D2;\n",
              "      height: 32px;\n",
              "      padding: 0 0 0 0;\n",
              "      width: 32px;\n",
              "    }\n",
              "\n",
              "    .colab-df-convert:hover {\n",
              "      background-color: #E2EBFA;\n",
              "      box-shadow: 0px 1px 2px rgba(60, 64, 67, 0.3), 0px 1px 3px 1px rgba(60, 64, 67, 0.15);\n",
              "      fill: #174EA6;\n",
              "    }\n",
              "\n",
              "    .colab-df-buttons div {\n",
              "      margin-bottom: 4px;\n",
              "    }\n",
              "\n",
              "    [theme=dark] .colab-df-convert {\n",
              "      background-color: #3B4455;\n",
              "      fill: #D2E3FC;\n",
              "    }\n",
              "\n",
              "    [theme=dark] .colab-df-convert:hover {\n",
              "      background-color: #434B5C;\n",
              "      box-shadow: 0px 1px 3px 1px rgba(0, 0, 0, 0.15);\n",
              "      filter: drop-shadow(0px 1px 2px rgba(0, 0, 0, 0.3));\n",
              "      fill: #FFFFFF;\n",
              "    }\n",
              "  </style>\n",
              "\n",
              "    <script>\n",
              "      const buttonEl =\n",
              "        document.querySelector('#df-bad7a9e1-2003-46e8-9916-b76c71d75f10 button.colab-df-convert');\n",
              "      buttonEl.style.display =\n",
              "        google.colab.kernel.accessAllowed ? 'block' : 'none';\n",
              "\n",
              "      async function convertToInteractive(key) {\n",
              "        const element = document.querySelector('#df-bad7a9e1-2003-46e8-9916-b76c71d75f10');\n",
              "        const dataTable =\n",
              "          await google.colab.kernel.invokeFunction('convertToInteractive',\n",
              "                                                    [key], {});\n",
              "        if (!dataTable) return;\n",
              "\n",
              "        const docLinkHtml = 'Like what you see? Visit the ' +\n",
              "          '<a target=\"_blank\" href=https://colab.research.google.com/notebooks/data_table.ipynb>data table notebook</a>'\n",
              "          + ' to learn more about interactive tables.';\n",
              "        element.innerHTML = '';\n",
              "        dataTable['output_type'] = 'display_data';\n",
              "        await google.colab.output.renderOutput(dataTable, element);\n",
              "        const docLink = document.createElement('div');\n",
              "        docLink.innerHTML = docLinkHtml;\n",
              "        element.appendChild(docLink);\n",
              "      }\n",
              "    </script>\n",
              "  </div>\n",
              "\n",
              "\n",
              "<div id=\"df-aaaae3e5-161e-4009-b5b1-7af47ea4c003\">\n",
              "  <button class=\"colab-df-quickchart\" onclick=\"quickchart('df-aaaae3e5-161e-4009-b5b1-7af47ea4c003')\"\n",
              "            title=\"Suggest charts\"\n",
              "            style=\"display:none;\">\n",
              "\n",
              "<svg xmlns=\"http://www.w3.org/2000/svg\" height=\"24px\"viewBox=\"0 0 24 24\"\n",
              "     width=\"24px\">\n",
              "    <g>\n",
              "        <path d=\"M19 3H5c-1.1 0-2 .9-2 2v14c0 1.1.9 2 2 2h14c1.1 0 2-.9 2-2V5c0-1.1-.9-2-2-2zM9 17H7v-7h2v7zm4 0h-2V7h2v10zm4 0h-2v-4h2v4z\"/>\n",
              "    </g>\n",
              "</svg>\n",
              "  </button>\n",
              "\n",
              "<style>\n",
              "  .colab-df-quickchart {\n",
              "      --bg-color: #E8F0FE;\n",
              "      --fill-color: #1967D2;\n",
              "      --hover-bg-color: #E2EBFA;\n",
              "      --hover-fill-color: #174EA6;\n",
              "      --disabled-fill-color: #AAA;\n",
              "      --disabled-bg-color: #DDD;\n",
              "  }\n",
              "\n",
              "  [theme=dark] .colab-df-quickchart {\n",
              "      --bg-color: #3B4455;\n",
              "      --fill-color: #D2E3FC;\n",
              "      --hover-bg-color: #434B5C;\n",
              "      --hover-fill-color: #FFFFFF;\n",
              "      --disabled-bg-color: #3B4455;\n",
              "      --disabled-fill-color: #666;\n",
              "  }\n",
              "\n",
              "  .colab-df-quickchart {\n",
              "    background-color: var(--bg-color);\n",
              "    border: none;\n",
              "    border-radius: 50%;\n",
              "    cursor: pointer;\n",
              "    display: none;\n",
              "    fill: var(--fill-color);\n",
              "    height: 32px;\n",
              "    padding: 0;\n",
              "    width: 32px;\n",
              "  }\n",
              "\n",
              "  .colab-df-quickchart:hover {\n",
              "    background-color: var(--hover-bg-color);\n",
              "    box-shadow: 0 1px 2px rgba(60, 64, 67, 0.3), 0 1px 3px 1px rgba(60, 64, 67, 0.15);\n",
              "    fill: var(--button-hover-fill-color);\n",
              "  }\n",
              "\n",
              "  .colab-df-quickchart-complete:disabled,\n",
              "  .colab-df-quickchart-complete:disabled:hover {\n",
              "    background-color: var(--disabled-bg-color);\n",
              "    fill: var(--disabled-fill-color);\n",
              "    box-shadow: none;\n",
              "  }\n",
              "\n",
              "  .colab-df-spinner {\n",
              "    border: 2px solid var(--fill-color);\n",
              "    border-color: transparent;\n",
              "    border-bottom-color: var(--fill-color);\n",
              "    animation:\n",
              "      spin 1s steps(1) infinite;\n",
              "  }\n",
              "\n",
              "  @keyframes spin {\n",
              "    0% {\n",
              "      border-color: transparent;\n",
              "      border-bottom-color: var(--fill-color);\n",
              "      border-left-color: var(--fill-color);\n",
              "    }\n",
              "    20% {\n",
              "      border-color: transparent;\n",
              "      border-left-color: var(--fill-color);\n",
              "      border-top-color: var(--fill-color);\n",
              "    }\n",
              "    30% {\n",
              "      border-color: transparent;\n",
              "      border-left-color: var(--fill-color);\n",
              "      border-top-color: var(--fill-color);\n",
              "      border-right-color: var(--fill-color);\n",
              "    }\n",
              "    40% {\n",
              "      border-color: transparent;\n",
              "      border-right-color: var(--fill-color);\n",
              "      border-top-color: var(--fill-color);\n",
              "    }\n",
              "    60% {\n",
              "      border-color: transparent;\n",
              "      border-right-color: var(--fill-color);\n",
              "    }\n",
              "    80% {\n",
              "      border-color: transparent;\n",
              "      border-right-color: var(--fill-color);\n",
              "      border-bottom-color: var(--fill-color);\n",
              "    }\n",
              "    90% {\n",
              "      border-color: transparent;\n",
              "      border-bottom-color: var(--fill-color);\n",
              "    }\n",
              "  }\n",
              "</style>\n",
              "\n",
              "  <script>\n",
              "    async function quickchart(key) {\n",
              "      const quickchartButtonEl =\n",
              "        document.querySelector('#' + key + ' button');\n",
              "      quickchartButtonEl.disabled = true;  // To prevent multiple clicks.\n",
              "      quickchartButtonEl.classList.add('colab-df-spinner');\n",
              "      try {\n",
              "        const charts = await google.colab.kernel.invokeFunction(\n",
              "            'suggestCharts', [key], {});\n",
              "      } catch (error) {\n",
              "        console.error('Error during call to suggestCharts:', error);\n",
              "      }\n",
              "      quickchartButtonEl.classList.remove('colab-df-spinner');\n",
              "      quickchartButtonEl.classList.add('colab-df-quickchart-complete');\n",
              "    }\n",
              "    (() => {\n",
              "      let quickchartButtonEl =\n",
              "        document.querySelector('#df-aaaae3e5-161e-4009-b5b1-7af47ea4c003 button');\n",
              "      quickchartButtonEl.style.display =\n",
              "        google.colab.kernel.accessAllowed ? 'block' : 'none';\n",
              "    })();\n",
              "  </script>\n",
              "</div>\n",
              "\n",
              "    </div>\n",
              "  </div>\n"
            ],
            "application/vnd.google.colaboratory.intrinsic+json": {
              "type": "dataframe",
              "variable_name": "df"
            }
          },
          "metadata": {},
          "execution_count": 7
        }
      ],
      "source": [
        "df.head()"
      ]
    },
    {
      "cell_type": "code",
      "execution_count": 8,
      "id": "FRnDtdc2TQvO",
      "metadata": {
        "colab": {
          "base_uri": "https://localhost:8080/"
        },
        "id": "FRnDtdc2TQvO",
        "outputId": "c3a86411-a23f-4c7d-a241-2861069d6666"
      },
      "outputs": [
        {
          "output_type": "stream",
          "name": "stdout",
          "text": [
            "<class 'pandas.core.frame.DataFrame'>\n",
            "RangeIndex: 496257 entries, 0 to 496256\n",
            "Data columns (total 6 columns):\n",
            " #   Column  Non-Null Count   Dtype \n",
            "---  ------  --------------   ----- \n",
            " 0   url     496257 non-null  object\n",
            " 1   title   496255 non-null  object\n",
            " 2   text    496257 non-null  object\n",
            " 3   topic   496173 non-null  object\n",
            " 4   tags    491110 non-null  object\n",
            " 5   date    496257 non-null  object\n",
            "dtypes: object(6)\n",
            "memory usage: 22.7+ MB\n"
          ]
        }
      ],
      "source": [
        "df.info()\n"
      ]
    },
    {
      "cell_type": "code",
      "execution_count": 9,
      "id": "Wg6LGrNXOc4i",
      "metadata": {
        "id": "Wg6LGrNXOc4i",
        "colab": {
          "base_uri": "https://localhost:8080/"
        },
        "outputId": "e8300b12-c7be-4b2c-b9e5-0b7f785465ee"
      },
      "outputs": [
        {
          "output_type": "stream",
          "name": "stderr",
          "text": [
            "<ipython-input-9-50d310c8e485>:2: SettingWithCopyWarning: \n",
            "A value is trying to be set on a copy of a slice from a DataFrame.\n",
            "Try using .loc[row_indexer,col_indexer] = value instead\n",
            "\n",
            "See the caveats in the documentation: https://pandas.pydata.org/pandas-docs/stable/user_guide/indexing.html#returning-a-view-versus-a-copy\n",
            "  df['topic'] = df['topic'].astype('category')\n"
          ]
        }
      ],
      "source": [
        "df = df.dropna()\n",
        "df['topic'] = df['topic'].astype('category')"
      ]
    },
    {
      "cell_type": "code",
      "source": [
        "df.value_counts('tags').head(30)"
      ],
      "metadata": {
        "colab": {
          "base_uri": "https://localhost:8080/",
          "height": 1000
        },
        "id": "1ALuQKM1U88n",
        "outputId": "0f66991f-30e2-4360-aa0c-f3b8b9666563"
      },
      "id": "1ALuQKM1U88n",
      "execution_count": 10,
      "outputs": [
        {
          "output_type": "execute_result",
          "data": {
            "text/plain": [
              "tags\n",
              "Политика                97275\n",
              "Общество                55367\n",
              "Украина                 33421\n",
              "Происшествия            21214\n",
              "Следствие и суд         18994\n",
              "Госэкономика            17442\n",
              "Дом                     11794\n",
              "Футбол                   9567\n",
              "Рынки                    9126\n",
              "Бизнес                   8444\n",
              "Люди                     8307\n",
              "ТВ и радио               7608\n",
              "Мир                      7563\n",
              "Кино                     7491\n",
              "Оружие                   7465\n",
              "Музыка                   7453\n",
              "Белоруссия               7053\n",
              "Явления                  6617\n",
              "Интернет                 6600\n",
              "Россия                   5703\n",
              "Бокс и ММА               5673\n",
              "Наука                    5414\n",
              "Полиция и спецслужбы     5075\n",
              "Криминал                 4838\n",
              "Закавказье               4503\n",
              "Внешний вид              4405\n",
              "Город                    4319\n",
              "Стиль                    4067\n",
              "Зимние виды              3959\n",
              "Все                      3857\n",
              "Name: count, dtype: int64"
            ],
            "text/html": [
              "<table border=\"1\" class=\"dataframe\">\n",
              "  <thead>\n",
              "    <tr style=\"text-align: right;\">\n",
              "      <th></th>\n",
              "      <th>count</th>\n",
              "    </tr>\n",
              "    <tr>\n",
              "      <th>tags</th>\n",
              "      <th></th>\n",
              "    </tr>\n",
              "  </thead>\n",
              "  <tbody>\n",
              "    <tr>\n",
              "      <th>Политика</th>\n",
              "      <td>97275</td>\n",
              "    </tr>\n",
              "    <tr>\n",
              "      <th>Общество</th>\n",
              "      <td>55367</td>\n",
              "    </tr>\n",
              "    <tr>\n",
              "      <th>Украина</th>\n",
              "      <td>33421</td>\n",
              "    </tr>\n",
              "    <tr>\n",
              "      <th>Происшествия</th>\n",
              "      <td>21214</td>\n",
              "    </tr>\n",
              "    <tr>\n",
              "      <th>Следствие и суд</th>\n",
              "      <td>18994</td>\n",
              "    </tr>\n",
              "    <tr>\n",
              "      <th>Госэкономика</th>\n",
              "      <td>17442</td>\n",
              "    </tr>\n",
              "    <tr>\n",
              "      <th>Дом</th>\n",
              "      <td>11794</td>\n",
              "    </tr>\n",
              "    <tr>\n",
              "      <th>Футбол</th>\n",
              "      <td>9567</td>\n",
              "    </tr>\n",
              "    <tr>\n",
              "      <th>Рынки</th>\n",
              "      <td>9126</td>\n",
              "    </tr>\n",
              "    <tr>\n",
              "      <th>Бизнес</th>\n",
              "      <td>8444</td>\n",
              "    </tr>\n",
              "    <tr>\n",
              "      <th>Люди</th>\n",
              "      <td>8307</td>\n",
              "    </tr>\n",
              "    <tr>\n",
              "      <th>ТВ и радио</th>\n",
              "      <td>7608</td>\n",
              "    </tr>\n",
              "    <tr>\n",
              "      <th>Мир</th>\n",
              "      <td>7563</td>\n",
              "    </tr>\n",
              "    <tr>\n",
              "      <th>Кино</th>\n",
              "      <td>7491</td>\n",
              "    </tr>\n",
              "    <tr>\n",
              "      <th>Оружие</th>\n",
              "      <td>7465</td>\n",
              "    </tr>\n",
              "    <tr>\n",
              "      <th>Музыка</th>\n",
              "      <td>7453</td>\n",
              "    </tr>\n",
              "    <tr>\n",
              "      <th>Белоруссия</th>\n",
              "      <td>7053</td>\n",
              "    </tr>\n",
              "    <tr>\n",
              "      <th>Явления</th>\n",
              "      <td>6617</td>\n",
              "    </tr>\n",
              "    <tr>\n",
              "      <th>Интернет</th>\n",
              "      <td>6600</td>\n",
              "    </tr>\n",
              "    <tr>\n",
              "      <th>Россия</th>\n",
              "      <td>5703</td>\n",
              "    </tr>\n",
              "    <tr>\n",
              "      <th>Бокс и ММА</th>\n",
              "      <td>5673</td>\n",
              "    </tr>\n",
              "    <tr>\n",
              "      <th>Наука</th>\n",
              "      <td>5414</td>\n",
              "    </tr>\n",
              "    <tr>\n",
              "      <th>Полиция и спецслужбы</th>\n",
              "      <td>5075</td>\n",
              "    </tr>\n",
              "    <tr>\n",
              "      <th>Криминал</th>\n",
              "      <td>4838</td>\n",
              "    </tr>\n",
              "    <tr>\n",
              "      <th>Закавказье</th>\n",
              "      <td>4503</td>\n",
              "    </tr>\n",
              "    <tr>\n",
              "      <th>Внешний вид</th>\n",
              "      <td>4405</td>\n",
              "    </tr>\n",
              "    <tr>\n",
              "      <th>Город</th>\n",
              "      <td>4319</td>\n",
              "    </tr>\n",
              "    <tr>\n",
              "      <th>Стиль</th>\n",
              "      <td>4067</td>\n",
              "    </tr>\n",
              "    <tr>\n",
              "      <th>Зимние виды</th>\n",
              "      <td>3959</td>\n",
              "    </tr>\n",
              "    <tr>\n",
              "      <th>Все</th>\n",
              "      <td>3857</td>\n",
              "    </tr>\n",
              "  </tbody>\n",
              "</table><br><label><b>dtype:</b> int64</label>"
            ]
          },
          "metadata": {},
          "execution_count": 10
        }
      ]
    },
    {
      "cell_type": "code",
      "source": [
        "# Define the list of tags you want to keep\n",
        "tags_to_keep = ['Политика', 'Госэкономика', 'Происшествия', 'Бизнес', 'Кино', 'Музыка', 'Внешний вид', 'Город', 'Стиль', 'Рынки', 'Футбол', 'Зимние виды']\n",
        "\n",
        "# Filter the DataFrame to only include rows with tags in the list\n",
        "filtered_df = df[df['tags'].isin(tags_to_keep)]"
      ],
      "metadata": {
        "id": "bchFQP0KUAHp"
      },
      "id": "bchFQP0KUAHp",
      "execution_count": 11,
      "outputs": []
    },
    {
      "cell_type": "markdown",
      "source": [
        "Здесь были вручную выбраны темы, которые точно политические (tag Политика), и разнообразные точно не политические (tag Госэкономика, Происшествия, Бизнес, Кино, Музыка, Внешний вид, Город, Стиль, Рынки, Футбол, Зимние виды). Оба эти класса были выбраны таким образом, чтобы результат политика/не политика был примерно 50/50."
      ],
      "metadata": {
        "id": "vHT5YbUJXJMG"
      },
      "id": "vHT5YbUJXJMG"
    },
    {
      "cell_type": "code",
      "source": [
        "filtered_df.info()"
      ],
      "metadata": {
        "colab": {
          "base_uri": "https://localhost:8080/"
        },
        "id": "rHrm4fZyXiKm",
        "outputId": "3dac4e9c-d6e0-48a5-9a36-92f6a239e9d3"
      },
      "id": "rHrm4fZyXiKm",
      "execution_count": 12,
      "outputs": [
        {
          "output_type": "stream",
          "name": "stdout",
          "text": [
            "<class 'pandas.core.frame.DataFrame'>\n",
            "Index: 194762 entries, 1 to 496256\n",
            "Data columns (total 6 columns):\n",
            " #   Column  Non-Null Count   Dtype   \n",
            "---  ------  --------------   -----   \n",
            " 0   url     194762 non-null  object  \n",
            " 1   title   194762 non-null  object  \n",
            " 2   text    194762 non-null  object  \n",
            " 3   topic   194762 non-null  category\n",
            " 4   tags    194762 non-null  object  \n",
            " 5   date    194762 non-null  object  \n",
            "dtypes: category(1), object(5)\n",
            "memory usage: 9.1+ MB\n"
          ]
        }
      ]
    },
    {
      "cell_type": "code",
      "execution_count": 13,
      "id": "7ONV8StrOglK",
      "metadata": {
        "colab": {
          "base_uri": "https://localhost:8080/"
        },
        "id": "7ONV8StrOglK",
        "outputId": "ef23dbff-8394-4261-d6d5-e44c6e8b3e9e"
      },
      "outputs": [
        {
          "output_type": "stream",
          "name": "stdout",
          "text": [
            "<class 'pandas.core.frame.DataFrame'>\n",
            "Index: 491110 entries, 0 to 496256\n",
            "Data columns (total 6 columns):\n",
            " #   Column  Non-Null Count   Dtype   \n",
            "---  ------  --------------   -----   \n",
            " 0   url     491110 non-null  object  \n",
            " 1   title   491110 non-null  object  \n",
            " 2   text    491110 non-null  object  \n",
            " 3   topic   491110 non-null  category\n",
            " 4   tags    491110 non-null  object  \n",
            " 5   date    491110 non-null  object  \n",
            "dtypes: category(1), object(5)\n",
            "memory usage: 23.0+ MB\n"
          ]
        },
        {
          "output_type": "stream",
          "name": "stderr",
          "text": [
            "<ipython-input-13-ddc9f5b12375>:1: SettingWithCopyWarning: \n",
            "A value is trying to be set on a copy of a slice from a DataFrame.\n",
            "Try using .loc[row_indexer,col_indexer] = value instead\n",
            "\n",
            "See the caveats in the documentation: https://pandas.pydata.org/pandas-docs/stable/user_guide/indexing.html#returning-a-view-versus-a-copy\n",
            "  filtered_df['is_politics'] = filtered_df['tags'].apply(lambda x: 1 if x == 'Политика' else 0)\n"
          ]
        }
      ],
      "source": [
        "filtered_df['is_politics'] = filtered_df['tags'].apply(lambda x: 1 if x == 'Политика' else 0)\n",
        "df.info()"
      ]
    },
    {
      "cell_type": "code",
      "source": [
        "# Случайным образом отбираем 50000 строк\n",
        "sampled_df = filtered_df.sample(n=50000, random_state=42)"
      ],
      "metadata": {
        "id": "8Vhk-kcadr5t"
      },
      "id": "8Vhk-kcadr5t",
      "execution_count": 14,
      "outputs": []
    },
    {
      "cell_type": "code",
      "execution_count": 15,
      "id": "osaGk5mjO9gz",
      "metadata": {
        "id": "osaGk5mjO9gz"
      },
      "outputs": [],
      "source": [
        "# Делим данные на трейн и тест\n",
        "X_train, X_test, y_train, y_test = train_test_split(sampled_df['text'], sampled_df['is_politics'], test_size=0.25, random_state=42,stratify=sampled_df['is_politics'])"
      ]
    },
    {
      "cell_type": "markdown",
      "source": [
        "# Подход Логистическая регрессия"
      ],
      "metadata": {
        "id": "mw06eIt8pkob"
      },
      "id": "mw06eIt8pkob"
    },
    {
      "cell_type": "code",
      "execution_count": 16,
      "id": "aWrf1t_7NVz9",
      "metadata": {
        "id": "aWrf1t_7NVz9"
      },
      "outputs": [],
      "source": [
        "# Векторизация с помощью TF-IDF\n",
        "vectorizer = TfidfVectorizer()\n",
        "X_train_tfidf = vectorizer.fit_transform(X_train)\n",
        "X_test_tfidf = vectorizer.transform(X_test)"
      ]
    },
    {
      "cell_type": "code",
      "execution_count": 17,
      "id": "eZ-dhTAJOC48",
      "metadata": {
        "colab": {
          "base_uri": "https://localhost:8080/",
          "height": 75
        },
        "id": "eZ-dhTAJOC48",
        "outputId": "56e779c5-a754-4e65-d876-0478d4959963"
      },
      "outputs": [
        {
          "output_type": "execute_result",
          "data": {
            "text/plain": [
              "LogisticRegression()"
            ],
            "text/html": [
              "<style>#sk-container-id-1 {color: black;}#sk-container-id-1 pre{padding: 0;}#sk-container-id-1 div.sk-toggleable {background-color: white;}#sk-container-id-1 label.sk-toggleable__label {cursor: pointer;display: block;width: 100%;margin-bottom: 0;padding: 0.3em;box-sizing: border-box;text-align: center;}#sk-container-id-1 label.sk-toggleable__label-arrow:before {content: \"▸\";float: left;margin-right: 0.25em;color: #696969;}#sk-container-id-1 label.sk-toggleable__label-arrow:hover:before {color: black;}#sk-container-id-1 div.sk-estimator:hover label.sk-toggleable__label-arrow:before {color: black;}#sk-container-id-1 div.sk-toggleable__content {max-height: 0;max-width: 0;overflow: hidden;text-align: left;background-color: #f0f8ff;}#sk-container-id-1 div.sk-toggleable__content pre {margin: 0.2em;color: black;border-radius: 0.25em;background-color: #f0f8ff;}#sk-container-id-1 input.sk-toggleable__control:checked~div.sk-toggleable__content {max-height: 200px;max-width: 100%;overflow: auto;}#sk-container-id-1 input.sk-toggleable__control:checked~label.sk-toggleable__label-arrow:before {content: \"▾\";}#sk-container-id-1 div.sk-estimator input.sk-toggleable__control:checked~label.sk-toggleable__label {background-color: #d4ebff;}#sk-container-id-1 div.sk-label input.sk-toggleable__control:checked~label.sk-toggleable__label {background-color: #d4ebff;}#sk-container-id-1 input.sk-hidden--visually {border: 0;clip: rect(1px 1px 1px 1px);clip: rect(1px, 1px, 1px, 1px);height: 1px;margin: -1px;overflow: hidden;padding: 0;position: absolute;width: 1px;}#sk-container-id-1 div.sk-estimator {font-family: monospace;background-color: #f0f8ff;border: 1px dotted black;border-radius: 0.25em;box-sizing: border-box;margin-bottom: 0.5em;}#sk-container-id-1 div.sk-estimator:hover {background-color: #d4ebff;}#sk-container-id-1 div.sk-parallel-item::after {content: \"\";width: 100%;border-bottom: 1px solid gray;flex-grow: 1;}#sk-container-id-1 div.sk-label:hover label.sk-toggleable__label {background-color: #d4ebff;}#sk-container-id-1 div.sk-serial::before {content: \"\";position: absolute;border-left: 1px solid gray;box-sizing: border-box;top: 0;bottom: 0;left: 50%;z-index: 0;}#sk-container-id-1 div.sk-serial {display: flex;flex-direction: column;align-items: center;background-color: white;padding-right: 0.2em;padding-left: 0.2em;position: relative;}#sk-container-id-1 div.sk-item {position: relative;z-index: 1;}#sk-container-id-1 div.sk-parallel {display: flex;align-items: stretch;justify-content: center;background-color: white;position: relative;}#sk-container-id-1 div.sk-item::before, #sk-container-id-1 div.sk-parallel-item::before {content: \"\";position: absolute;border-left: 1px solid gray;box-sizing: border-box;top: 0;bottom: 0;left: 50%;z-index: -1;}#sk-container-id-1 div.sk-parallel-item {display: flex;flex-direction: column;z-index: 1;position: relative;background-color: white;}#sk-container-id-1 div.sk-parallel-item:first-child::after {align-self: flex-end;width: 50%;}#sk-container-id-1 div.sk-parallel-item:last-child::after {align-self: flex-start;width: 50%;}#sk-container-id-1 div.sk-parallel-item:only-child::after {width: 0;}#sk-container-id-1 div.sk-dashed-wrapped {border: 1px dashed gray;margin: 0 0.4em 0.5em 0.4em;box-sizing: border-box;padding-bottom: 0.4em;background-color: white;}#sk-container-id-1 div.sk-label label {font-family: monospace;font-weight: bold;display: inline-block;line-height: 1.2em;}#sk-container-id-1 div.sk-label-container {text-align: center;}#sk-container-id-1 div.sk-container {/* jupyter's `normalize.less` sets `[hidden] { display: none; }` but bootstrap.min.css set `[hidden] { display: none !important; }` so we also need the `!important` here to be able to override the default hidden behavior on the sphinx rendered scikit-learn.org. See: https://github.com/scikit-learn/scikit-learn/issues/21755 */display: inline-block !important;position: relative;}#sk-container-id-1 div.sk-text-repr-fallback {display: none;}</style><div id=\"sk-container-id-1\" class=\"sk-top-container\"><div class=\"sk-text-repr-fallback\"><pre>LogisticRegression()</pre><b>In a Jupyter environment, please rerun this cell to show the HTML representation or trust the notebook. <br />On GitHub, the HTML representation is unable to render, please try loading this page with nbviewer.org.</b></div><div class=\"sk-container\" hidden><div class=\"sk-item\"><div class=\"sk-estimator sk-toggleable\"><input class=\"sk-toggleable__control sk-hidden--visually\" id=\"sk-estimator-id-1\" type=\"checkbox\" checked><label for=\"sk-estimator-id-1\" class=\"sk-toggleable__label sk-toggleable__label-arrow\">LogisticRegression</label><div class=\"sk-toggleable__content\"><pre>LogisticRegression()</pre></div></div></div></div></div>"
            ]
          },
          "metadata": {},
          "execution_count": 17
        }
      ],
      "source": [
        "# Обучаем модель логистической регрессии на трейне\n",
        "classifier = LogisticRegression()\n",
        "classifier.fit(X_train_tfidf, y_train)"
      ]
    },
    {
      "cell_type": "code",
      "execution_count": 18,
      "id": "C3QJQLlmbyrL",
      "metadata": {
        "id": "C3QJQLlmbyrL"
      },
      "outputs": [],
      "source": [
        "# Прогнозируем целевую переменную на тестовой выборке\n",
        "y_pred = classifier.predict(X_test_tfidf)"
      ]
    },
    {
      "cell_type": "code",
      "execution_count": 19,
      "id": "laqI5jQGb1Mt",
      "metadata": {
        "id": "laqI5jQGb1Mt",
        "colab": {
          "base_uri": "https://localhost:8080/"
        },
        "outputId": "303ddee9-fff7-4c16-f9bd-e726ac0b393b"
      },
      "outputs": [
        {
          "output_type": "stream",
          "name": "stdout",
          "text": [
            "              precision    recall  f1-score   support\n",
            "\n",
            "           0       0.94      0.94      0.94      6260\n",
            "           1       0.94      0.94      0.94      6240\n",
            "\n",
            "    accuracy                           0.94     12500\n",
            "   macro avg       0.94      0.94      0.94     12500\n",
            "weighted avg       0.94      0.94      0.94     12500\n",
            "\n"
          ]
        }
      ],
      "source": [
        "# Оцениваем качество модели\n",
        "print(classification_report(y_test, y_pred))"
      ]
    },
    {
      "cell_type": "markdown",
      "source": [
        "# Попытаемся улучшить токенизацию тектстов\n",
        "\n",
        "Используя BPE и word2vec"
      ],
      "metadata": {
        "id": "MNTfBjRspq0X"
      },
      "id": "MNTfBjRspq0X"
    },
    {
      "cell_type": "code",
      "source": [
        "# Импортируем необходимый класс AutoTokenizer из библиотеки transformers\n",
        "from transformers import AutoTokenizer\n",
        "\n",
        "# Создаём экземпляр токенизатора, загружая предварительно обученный токенизатор соответствующей модели\n",
        "tokenizer = AutoTokenizer.from_pretrained(\"DeepPavlov/rubert-base-cased\")"
      ],
      "metadata": {
        "id": "f3qusimKp1KH"
      },
      "id": "f3qusimKp1KH",
      "execution_count": 20,
      "outputs": []
    },
    {
      "cell_type": "code",
      "source": [
        "print(sampled_df.columns)"
      ],
      "metadata": {
        "colab": {
          "base_uri": "https://localhost:8080/"
        },
        "id": "nh_J8V23mufl",
        "outputId": "9421e86c-78d4-4b9e-9ad3-8e5299962fc7"
      },
      "id": "nh_J8V23mufl",
      "execution_count": 21,
      "outputs": [
        {
          "output_type": "stream",
          "name": "stdout",
          "text": [
            "Index(['url', 'title', 'text', 'topic', 'tags', 'date', 'is_politics'], dtype='object')\n"
          ]
        }
      ]
    },
    {
      "cell_type": "code",
      "source": [
        "def tokenize_text(text):\n",
        "    # Tokenize the text and convert to token IDs\n",
        "    return tokenizer.encode(text, add_special_tokens=True)\n",
        "\n",
        "# Apply the tokenizer to the 'text' column\n",
        "sampled_df['tokens'] = sampled_df['text'].apply(tokenize_text)"
      ],
      "metadata": {
        "id": "KWx9-6ZqsrOf"
      },
      "id": "KWx9-6ZqsrOf",
      "execution_count": 22,
      "outputs": []
    },
    {
      "cell_type": "code",
      "source": [
        "# Инициализируем токенизатор модели\n",
        "def tokenize_text(text):\n",
        "    return tokenizer.tokenize(text)\n",
        "\n",
        "# Применяем функцию к столбцу 'text'\n",
        "sampled_df['tokens'] = sampled_df['text'].apply(tokenize_text)"
      ],
      "metadata": {
        "id": "-NVE7OIItg8f"
      },
      "id": "-NVE7OIItg8f",
      "execution_count": 23,
      "outputs": []
    },
    {
      "cell_type": "code",
      "source": [
        "sampled_df.head()"
      ],
      "metadata": {
        "colab": {
          "base_uri": "https://localhost:8080/",
          "height": 432
        },
        "id": "GrS26p_HuAUp",
        "outputId": "fef340ce-8e06-4ab2-b3a1-353c73d37f9a"
      },
      "id": "GrS26p_HuAUp",
      "execution_count": 24,
      "outputs": [
        {
          "output_type": "execute_result",
          "data": {
            "text/plain": [
              "                                                      url  \\\n",
              "340444          https://lenta.ru/news/2022/11/10/sobakaa/   \n",
              "481461  https://lenta.ru/news/2023/11/29/korabl-progre...   \n",
              "224400        https://lenta.ru/news/2022/02/10/003879504/   \n",
              "90318           https://lenta.ru/news/2021/01/02/pasynok/   \n",
              "89047             https://lenta.ru/news/2020/12/27/levye/   \n",
              "\n",
              "                                                    title  \\\n",
              "340444  Пережившая нападение акулы женщина рассказала ...   \n",
              "481461  Российским чиновникам предложили курировать се...   \n",
              "224400  Евросоюз ответил на письмо Лаврова по безопасн...   \n",
              "90318   Байден заявил о желании сотрудничать с Констан...   \n",
              "89047   Трамп призвал республиканцев бороться за его п...   \n",
              "\n",
              "                                                     text     topic  \\\n",
              "340444  50-летняя жительница США Лин Ютронич пережила ...  Из жизни   \n",
              "481461  Российским чиновникам предложили курировать се...    Россия   \n",
              "224400  Евросоюз (ЕС) передал официальный коллективный...       Мир   \n",
              "90318   Избранный президент США Джо Байден в ответном ...       Мир   \n",
              "89047   Президент США Дональд Трамп призвал Республика...       Мир   \n",
              "\n",
              "                tags        date  is_politics  \\\n",
              "340444  Происшествия  2022-11-10            0   \n",
              "481461      Политика  2023-11-29            1   \n",
              "224400      Политика  2022-02-10            1   \n",
              "90318       Политика  2021-01-02            1   \n",
              "89047       Политика  2020-12-27            1   \n",
              "\n",
              "                                                   tokens  \n",
              "340444  [50, -, летняя, жительница, США, Лин, Ют, ##ро...  \n",
              "481461  [Российским, чиновникам, предложили, курироват...  \n",
              "224400  [Евросоюз, (, ЕС, ), передал, официальный, кол...  \n",
              "90318   [Избранный, президент, США, Джо, Байден, в, от...  \n",
              "89047   [Президент, США, Дональд, Трамп, призвал, Респ...  "
            ],
            "text/html": [
              "\n",
              "  <div id=\"df-642d3bfb-e8e1-4eb5-9a0b-8c6b0722081a\" class=\"colab-df-container\">\n",
              "    <div>\n",
              "<style scoped>\n",
              "    .dataframe tbody tr th:only-of-type {\n",
              "        vertical-align: middle;\n",
              "    }\n",
              "\n",
              "    .dataframe tbody tr th {\n",
              "        vertical-align: top;\n",
              "    }\n",
              "\n",
              "    .dataframe thead th {\n",
              "        text-align: right;\n",
              "    }\n",
              "</style>\n",
              "<table border=\"1\" class=\"dataframe\">\n",
              "  <thead>\n",
              "    <tr style=\"text-align: right;\">\n",
              "      <th></th>\n",
              "      <th>url</th>\n",
              "      <th>title</th>\n",
              "      <th>text</th>\n",
              "      <th>topic</th>\n",
              "      <th>tags</th>\n",
              "      <th>date</th>\n",
              "      <th>is_politics</th>\n",
              "      <th>tokens</th>\n",
              "    </tr>\n",
              "  </thead>\n",
              "  <tbody>\n",
              "    <tr>\n",
              "      <th>340444</th>\n",
              "      <td>https://lenta.ru/news/2022/11/10/sobakaa/</td>\n",
              "      <td>Пережившая нападение акулы женщина рассказала ...</td>\n",
              "      <td>50-летняя жительница США Лин Ютронич пережила ...</td>\n",
              "      <td>Из жизни</td>\n",
              "      <td>Происшествия</td>\n",
              "      <td>2022-11-10</td>\n",
              "      <td>0</td>\n",
              "      <td>[50, -, летняя, жительница, США, Лин, Ют, ##ро...</td>\n",
              "    </tr>\n",
              "    <tr>\n",
              "      <th>481461</th>\n",
              "      <td>https://lenta.ru/news/2023/11/29/korabl-progre...</td>\n",
              "      <td>Российским чиновникам предложили курировать се...</td>\n",
              "      <td>Российским чиновникам предложили курировать се...</td>\n",
              "      <td>Россия</td>\n",
              "      <td>Политика</td>\n",
              "      <td>2023-11-29</td>\n",
              "      <td>1</td>\n",
              "      <td>[Российским, чиновникам, предложили, курироват...</td>\n",
              "    </tr>\n",
              "    <tr>\n",
              "      <th>224400</th>\n",
              "      <td>https://lenta.ru/news/2022/02/10/003879504/</td>\n",
              "      <td>Евросоюз ответил на письмо Лаврова по безопасн...</td>\n",
              "      <td>Евросоюз (ЕС) передал официальный коллективный...</td>\n",
              "      <td>Мир</td>\n",
              "      <td>Политика</td>\n",
              "      <td>2022-02-10</td>\n",
              "      <td>1</td>\n",
              "      <td>[Евросоюз, (, ЕС, ), передал, официальный, кол...</td>\n",
              "    </tr>\n",
              "    <tr>\n",
              "      <th>90318</th>\n",
              "      <td>https://lenta.ru/news/2021/01/02/pasynok/</td>\n",
              "      <td>Байден заявил о желании сотрудничать с Констан...</td>\n",
              "      <td>Избранный президент США Джо Байден в ответном ...</td>\n",
              "      <td>Мир</td>\n",
              "      <td>Политика</td>\n",
              "      <td>2021-01-02</td>\n",
              "      <td>1</td>\n",
              "      <td>[Избранный, президент, США, Джо, Байден, в, от...</td>\n",
              "    </tr>\n",
              "    <tr>\n",
              "      <th>89047</th>\n",
              "      <td>https://lenta.ru/news/2020/12/27/levye/</td>\n",
              "      <td>Трамп призвал республиканцев бороться за его п...</td>\n",
              "      <td>Президент США Дональд Трамп призвал Республика...</td>\n",
              "      <td>Мир</td>\n",
              "      <td>Политика</td>\n",
              "      <td>2020-12-27</td>\n",
              "      <td>1</td>\n",
              "      <td>[Президент, США, Дональд, Трамп, призвал, Респ...</td>\n",
              "    </tr>\n",
              "  </tbody>\n",
              "</table>\n",
              "</div>\n",
              "    <div class=\"colab-df-buttons\">\n",
              "\n",
              "  <div class=\"colab-df-container\">\n",
              "    <button class=\"colab-df-convert\" onclick=\"convertToInteractive('df-642d3bfb-e8e1-4eb5-9a0b-8c6b0722081a')\"\n",
              "            title=\"Convert this dataframe to an interactive table.\"\n",
              "            style=\"display:none;\">\n",
              "\n",
              "  <svg xmlns=\"http://www.w3.org/2000/svg\" height=\"24px\" viewBox=\"0 -960 960 960\">\n",
              "    <path d=\"M120-120v-720h720v720H120Zm60-500h600v-160H180v160Zm220 220h160v-160H400v160Zm0 220h160v-160H400v160ZM180-400h160v-160H180v160Zm440 0h160v-160H620v160ZM180-180h160v-160H180v160Zm440 0h160v-160H620v160Z\"/>\n",
              "  </svg>\n",
              "    </button>\n",
              "\n",
              "  <style>\n",
              "    .colab-df-container {\n",
              "      display:flex;\n",
              "      gap: 12px;\n",
              "    }\n",
              "\n",
              "    .colab-df-convert {\n",
              "      background-color: #E8F0FE;\n",
              "      border: none;\n",
              "      border-radius: 50%;\n",
              "      cursor: pointer;\n",
              "      display: none;\n",
              "      fill: #1967D2;\n",
              "      height: 32px;\n",
              "      padding: 0 0 0 0;\n",
              "      width: 32px;\n",
              "    }\n",
              "\n",
              "    .colab-df-convert:hover {\n",
              "      background-color: #E2EBFA;\n",
              "      box-shadow: 0px 1px 2px rgba(60, 64, 67, 0.3), 0px 1px 3px 1px rgba(60, 64, 67, 0.15);\n",
              "      fill: #174EA6;\n",
              "    }\n",
              "\n",
              "    .colab-df-buttons div {\n",
              "      margin-bottom: 4px;\n",
              "    }\n",
              "\n",
              "    [theme=dark] .colab-df-convert {\n",
              "      background-color: #3B4455;\n",
              "      fill: #D2E3FC;\n",
              "    }\n",
              "\n",
              "    [theme=dark] .colab-df-convert:hover {\n",
              "      background-color: #434B5C;\n",
              "      box-shadow: 0px 1px 3px 1px rgba(0, 0, 0, 0.15);\n",
              "      filter: drop-shadow(0px 1px 2px rgba(0, 0, 0, 0.3));\n",
              "      fill: #FFFFFF;\n",
              "    }\n",
              "  </style>\n",
              "\n",
              "    <script>\n",
              "      const buttonEl =\n",
              "        document.querySelector('#df-642d3bfb-e8e1-4eb5-9a0b-8c6b0722081a button.colab-df-convert');\n",
              "      buttonEl.style.display =\n",
              "        google.colab.kernel.accessAllowed ? 'block' : 'none';\n",
              "\n",
              "      async function convertToInteractive(key) {\n",
              "        const element = document.querySelector('#df-642d3bfb-e8e1-4eb5-9a0b-8c6b0722081a');\n",
              "        const dataTable =\n",
              "          await google.colab.kernel.invokeFunction('convertToInteractive',\n",
              "                                                    [key], {});\n",
              "        if (!dataTable) return;\n",
              "\n",
              "        const docLinkHtml = 'Like what you see? Visit the ' +\n",
              "          '<a target=\"_blank\" href=https://colab.research.google.com/notebooks/data_table.ipynb>data table notebook</a>'\n",
              "          + ' to learn more about interactive tables.';\n",
              "        element.innerHTML = '';\n",
              "        dataTable['output_type'] = 'display_data';\n",
              "        await google.colab.output.renderOutput(dataTable, element);\n",
              "        const docLink = document.createElement('div');\n",
              "        docLink.innerHTML = docLinkHtml;\n",
              "        element.appendChild(docLink);\n",
              "      }\n",
              "    </script>\n",
              "  </div>\n",
              "\n",
              "\n",
              "<div id=\"df-b0b59b7a-c426-48db-9f11-501454255d1d\">\n",
              "  <button class=\"colab-df-quickchart\" onclick=\"quickchart('df-b0b59b7a-c426-48db-9f11-501454255d1d')\"\n",
              "            title=\"Suggest charts\"\n",
              "            style=\"display:none;\">\n",
              "\n",
              "<svg xmlns=\"http://www.w3.org/2000/svg\" height=\"24px\"viewBox=\"0 0 24 24\"\n",
              "     width=\"24px\">\n",
              "    <g>\n",
              "        <path d=\"M19 3H5c-1.1 0-2 .9-2 2v14c0 1.1.9 2 2 2h14c1.1 0 2-.9 2-2V5c0-1.1-.9-2-2-2zM9 17H7v-7h2v7zm4 0h-2V7h2v10zm4 0h-2v-4h2v4z\"/>\n",
              "    </g>\n",
              "</svg>\n",
              "  </button>\n",
              "\n",
              "<style>\n",
              "  .colab-df-quickchart {\n",
              "      --bg-color: #E8F0FE;\n",
              "      --fill-color: #1967D2;\n",
              "      --hover-bg-color: #E2EBFA;\n",
              "      --hover-fill-color: #174EA6;\n",
              "      --disabled-fill-color: #AAA;\n",
              "      --disabled-bg-color: #DDD;\n",
              "  }\n",
              "\n",
              "  [theme=dark] .colab-df-quickchart {\n",
              "      --bg-color: #3B4455;\n",
              "      --fill-color: #D2E3FC;\n",
              "      --hover-bg-color: #434B5C;\n",
              "      --hover-fill-color: #FFFFFF;\n",
              "      --disabled-bg-color: #3B4455;\n",
              "      --disabled-fill-color: #666;\n",
              "  }\n",
              "\n",
              "  .colab-df-quickchart {\n",
              "    background-color: var(--bg-color);\n",
              "    border: none;\n",
              "    border-radius: 50%;\n",
              "    cursor: pointer;\n",
              "    display: none;\n",
              "    fill: var(--fill-color);\n",
              "    height: 32px;\n",
              "    padding: 0;\n",
              "    width: 32px;\n",
              "  }\n",
              "\n",
              "  .colab-df-quickchart:hover {\n",
              "    background-color: var(--hover-bg-color);\n",
              "    box-shadow: 0 1px 2px rgba(60, 64, 67, 0.3), 0 1px 3px 1px rgba(60, 64, 67, 0.15);\n",
              "    fill: var(--button-hover-fill-color);\n",
              "  }\n",
              "\n",
              "  .colab-df-quickchart-complete:disabled,\n",
              "  .colab-df-quickchart-complete:disabled:hover {\n",
              "    background-color: var(--disabled-bg-color);\n",
              "    fill: var(--disabled-fill-color);\n",
              "    box-shadow: none;\n",
              "  }\n",
              "\n",
              "  .colab-df-spinner {\n",
              "    border: 2px solid var(--fill-color);\n",
              "    border-color: transparent;\n",
              "    border-bottom-color: var(--fill-color);\n",
              "    animation:\n",
              "      spin 1s steps(1) infinite;\n",
              "  }\n",
              "\n",
              "  @keyframes spin {\n",
              "    0% {\n",
              "      border-color: transparent;\n",
              "      border-bottom-color: var(--fill-color);\n",
              "      border-left-color: var(--fill-color);\n",
              "    }\n",
              "    20% {\n",
              "      border-color: transparent;\n",
              "      border-left-color: var(--fill-color);\n",
              "      border-top-color: var(--fill-color);\n",
              "    }\n",
              "    30% {\n",
              "      border-color: transparent;\n",
              "      border-left-color: var(--fill-color);\n",
              "      border-top-color: var(--fill-color);\n",
              "      border-right-color: var(--fill-color);\n",
              "    }\n",
              "    40% {\n",
              "      border-color: transparent;\n",
              "      border-right-color: var(--fill-color);\n",
              "      border-top-color: var(--fill-color);\n",
              "    }\n",
              "    60% {\n",
              "      border-color: transparent;\n",
              "      border-right-color: var(--fill-color);\n",
              "    }\n",
              "    80% {\n",
              "      border-color: transparent;\n",
              "      border-right-color: var(--fill-color);\n",
              "      border-bottom-color: var(--fill-color);\n",
              "    }\n",
              "    90% {\n",
              "      border-color: transparent;\n",
              "      border-bottom-color: var(--fill-color);\n",
              "    }\n",
              "  }\n",
              "</style>\n",
              "\n",
              "  <script>\n",
              "    async function quickchart(key) {\n",
              "      const quickchartButtonEl =\n",
              "        document.querySelector('#' + key + ' button');\n",
              "      quickchartButtonEl.disabled = true;  // To prevent multiple clicks.\n",
              "      quickchartButtonEl.classList.add('colab-df-spinner');\n",
              "      try {\n",
              "        const charts = await google.colab.kernel.invokeFunction(\n",
              "            'suggestCharts', [key], {});\n",
              "      } catch (error) {\n",
              "        console.error('Error during call to suggestCharts:', error);\n",
              "      }\n",
              "      quickchartButtonEl.classList.remove('colab-df-spinner');\n",
              "      quickchartButtonEl.classList.add('colab-df-quickchart-complete');\n",
              "    }\n",
              "    (() => {\n",
              "      let quickchartButtonEl =\n",
              "        document.querySelector('#df-b0b59b7a-c426-48db-9f11-501454255d1d button');\n",
              "      quickchartButtonEl.style.display =\n",
              "        google.colab.kernel.accessAllowed ? 'block' : 'none';\n",
              "    })();\n",
              "  </script>\n",
              "</div>\n",
              "\n",
              "    </div>\n",
              "  </div>\n"
            ],
            "application/vnd.google.colaboratory.intrinsic+json": {
              "type": "dataframe",
              "variable_name": "sampled_df",
              "repr_error": "0"
            }
          },
          "metadata": {},
          "execution_count": 24
        }
      ]
    },
    {
      "cell_type": "code",
      "source": [
        "import nltk\n",
        "nltk.download('stopwords')\n",
        "from nltk.corpus import stopwords\n",
        "\n",
        "# Загружаем список стопслов\n",
        "russian_stopwords = set(stopwords.words('russian'))\n",
        "\n",
        "# Инициализируем функцию, которая удаляет стопслова из токенизированного текста\n",
        "def remove_stopwords(tokens):\n",
        "    return [token for token in tokens if token not in russian_stopwords]\n",
        "\n",
        "# Удаляем стопслова из токенизированного текста\n",
        "sampled_df['tokens_no_stopwords'] = sampled_df['tokens'].apply(remove_stopwords)\n",
        "\n",
        "sampled_df.head()\n"
      ],
      "metadata": {
        "colab": {
          "base_uri": "https://localhost:8080/",
          "height": 609
        },
        "id": "M-7l--rUvDUd",
        "outputId": "bbf4d3de-965b-46c1-d33e-b204a8c7dd81"
      },
      "id": "M-7l--rUvDUd",
      "execution_count": 25,
      "outputs": [
        {
          "output_type": "stream",
          "name": "stderr",
          "text": [
            "[nltk_data] Downloading package stopwords to /root/nltk_data...\n",
            "[nltk_data]   Package stopwords is already up-to-date!\n"
          ]
        },
        {
          "output_type": "execute_result",
          "data": {
            "text/plain": [
              "                                                      url  \\\n",
              "340444          https://lenta.ru/news/2022/11/10/sobakaa/   \n",
              "481461  https://lenta.ru/news/2023/11/29/korabl-progre...   \n",
              "224400        https://lenta.ru/news/2022/02/10/003879504/   \n",
              "90318           https://lenta.ru/news/2021/01/02/pasynok/   \n",
              "89047             https://lenta.ru/news/2020/12/27/levye/   \n",
              "\n",
              "                                                    title  \\\n",
              "340444  Пережившая нападение акулы женщина рассказала ...   \n",
              "481461  Российским чиновникам предложили курировать се...   \n",
              "224400  Евросоюз ответил на письмо Лаврова по безопасн...   \n",
              "90318   Байден заявил о желании сотрудничать с Констан...   \n",
              "89047   Трамп призвал республиканцев бороться за его п...   \n",
              "\n",
              "                                                     text     topic  \\\n",
              "340444  50-летняя жительница США Лин Ютронич пережила ...  Из жизни   \n",
              "481461  Российским чиновникам предложили курировать се...    Россия   \n",
              "224400  Евросоюз (ЕС) передал официальный коллективный...       Мир   \n",
              "90318   Избранный президент США Джо Байден в ответном ...       Мир   \n",
              "89047   Президент США Дональд Трамп призвал Республика...       Мир   \n",
              "\n",
              "                tags        date  is_politics  \\\n",
              "340444  Происшествия  2022-11-10            0   \n",
              "481461      Политика  2023-11-29            1   \n",
              "224400      Политика  2022-02-10            1   \n",
              "90318       Политика  2021-01-02            1   \n",
              "89047       Политика  2020-12-27            1   \n",
              "\n",
              "                                                   tokens  \\\n",
              "340444  [50, -, летняя, жительница, США, Лин, Ют, ##ро...   \n",
              "481461  [Российским, чиновникам, предложили, курироват...   \n",
              "224400  [Евросоюз, (, ЕС, ), передал, официальный, кол...   \n",
              "90318   [Избранный, президент, США, Джо, Байден, в, от...   \n",
              "89047   [Президент, США, Дональд, Трамп, призвал, Респ...   \n",
              "\n",
              "                                      tokens_no_stopwords  \n",
              "340444  [50, -, летняя, жительница, США, Лин, Ют, ##ро...  \n",
              "481461  [Российским, чиновникам, предложили, курироват...  \n",
              "224400  [Евросоюз, (, ЕС, ), передал, официальный, кол...  \n",
              "90318   [Избранный, президент, США, Джо, Байден, ответ...  \n",
              "89047   [Президент, США, Дональд, Трамп, призвал, Респ...  "
            ],
            "text/html": [
              "\n",
              "  <div id=\"df-5330aa57-543b-4a19-8cc4-8966cef80bc5\" class=\"colab-df-container\">\n",
              "    <div>\n",
              "<style scoped>\n",
              "    .dataframe tbody tr th:only-of-type {\n",
              "        vertical-align: middle;\n",
              "    }\n",
              "\n",
              "    .dataframe tbody tr th {\n",
              "        vertical-align: top;\n",
              "    }\n",
              "\n",
              "    .dataframe thead th {\n",
              "        text-align: right;\n",
              "    }\n",
              "</style>\n",
              "<table border=\"1\" class=\"dataframe\">\n",
              "  <thead>\n",
              "    <tr style=\"text-align: right;\">\n",
              "      <th></th>\n",
              "      <th>url</th>\n",
              "      <th>title</th>\n",
              "      <th>text</th>\n",
              "      <th>topic</th>\n",
              "      <th>tags</th>\n",
              "      <th>date</th>\n",
              "      <th>is_politics</th>\n",
              "      <th>tokens</th>\n",
              "      <th>tokens_no_stopwords</th>\n",
              "    </tr>\n",
              "  </thead>\n",
              "  <tbody>\n",
              "    <tr>\n",
              "      <th>340444</th>\n",
              "      <td>https://lenta.ru/news/2022/11/10/sobakaa/</td>\n",
              "      <td>Пережившая нападение акулы женщина рассказала ...</td>\n",
              "      <td>50-летняя жительница США Лин Ютронич пережила ...</td>\n",
              "      <td>Из жизни</td>\n",
              "      <td>Происшествия</td>\n",
              "      <td>2022-11-10</td>\n",
              "      <td>0</td>\n",
              "      <td>[50, -, летняя, жительница, США, Лин, Ют, ##ро...</td>\n",
              "      <td>[50, -, летняя, жительница, США, Лин, Ют, ##ро...</td>\n",
              "    </tr>\n",
              "    <tr>\n",
              "      <th>481461</th>\n",
              "      <td>https://lenta.ru/news/2023/11/29/korabl-progre...</td>\n",
              "      <td>Российским чиновникам предложили курировать се...</td>\n",
              "      <td>Российским чиновникам предложили курировать се...</td>\n",
              "      <td>Россия</td>\n",
              "      <td>Политика</td>\n",
              "      <td>2023-11-29</td>\n",
              "      <td>1</td>\n",
              "      <td>[Российским, чиновникам, предложили, курироват...</td>\n",
              "      <td>[Российским, чиновникам, предложили, курироват...</td>\n",
              "    </tr>\n",
              "    <tr>\n",
              "      <th>224400</th>\n",
              "      <td>https://lenta.ru/news/2022/02/10/003879504/</td>\n",
              "      <td>Евросоюз ответил на письмо Лаврова по безопасн...</td>\n",
              "      <td>Евросоюз (ЕС) передал официальный коллективный...</td>\n",
              "      <td>Мир</td>\n",
              "      <td>Политика</td>\n",
              "      <td>2022-02-10</td>\n",
              "      <td>1</td>\n",
              "      <td>[Евросоюз, (, ЕС, ), передал, официальный, кол...</td>\n",
              "      <td>[Евросоюз, (, ЕС, ), передал, официальный, кол...</td>\n",
              "    </tr>\n",
              "    <tr>\n",
              "      <th>90318</th>\n",
              "      <td>https://lenta.ru/news/2021/01/02/pasynok/</td>\n",
              "      <td>Байден заявил о желании сотрудничать с Констан...</td>\n",
              "      <td>Избранный президент США Джо Байден в ответном ...</td>\n",
              "      <td>Мир</td>\n",
              "      <td>Политика</td>\n",
              "      <td>2021-01-02</td>\n",
              "      <td>1</td>\n",
              "      <td>[Избранный, президент, США, Джо, Байден, в, от...</td>\n",
              "      <td>[Избранный, президент, США, Джо, Байден, ответ...</td>\n",
              "    </tr>\n",
              "    <tr>\n",
              "      <th>89047</th>\n",
              "      <td>https://lenta.ru/news/2020/12/27/levye/</td>\n",
              "      <td>Трамп призвал республиканцев бороться за его п...</td>\n",
              "      <td>Президент США Дональд Трамп призвал Республика...</td>\n",
              "      <td>Мир</td>\n",
              "      <td>Политика</td>\n",
              "      <td>2020-12-27</td>\n",
              "      <td>1</td>\n",
              "      <td>[Президент, США, Дональд, Трамп, призвал, Респ...</td>\n",
              "      <td>[Президент, США, Дональд, Трамп, призвал, Респ...</td>\n",
              "    </tr>\n",
              "  </tbody>\n",
              "</table>\n",
              "</div>\n",
              "    <div class=\"colab-df-buttons\">\n",
              "\n",
              "  <div class=\"colab-df-container\">\n",
              "    <button class=\"colab-df-convert\" onclick=\"convertToInteractive('df-5330aa57-543b-4a19-8cc4-8966cef80bc5')\"\n",
              "            title=\"Convert this dataframe to an interactive table.\"\n",
              "            style=\"display:none;\">\n",
              "\n",
              "  <svg xmlns=\"http://www.w3.org/2000/svg\" height=\"24px\" viewBox=\"0 -960 960 960\">\n",
              "    <path d=\"M120-120v-720h720v720H120Zm60-500h600v-160H180v160Zm220 220h160v-160H400v160Zm0 220h160v-160H400v160ZM180-400h160v-160H180v160Zm440 0h160v-160H620v160ZM180-180h160v-160H180v160Zm440 0h160v-160H620v160Z\"/>\n",
              "  </svg>\n",
              "    </button>\n",
              "\n",
              "  <style>\n",
              "    .colab-df-container {\n",
              "      display:flex;\n",
              "      gap: 12px;\n",
              "    }\n",
              "\n",
              "    .colab-df-convert {\n",
              "      background-color: #E8F0FE;\n",
              "      border: none;\n",
              "      border-radius: 50%;\n",
              "      cursor: pointer;\n",
              "      display: none;\n",
              "      fill: #1967D2;\n",
              "      height: 32px;\n",
              "      padding: 0 0 0 0;\n",
              "      width: 32px;\n",
              "    }\n",
              "\n",
              "    .colab-df-convert:hover {\n",
              "      background-color: #E2EBFA;\n",
              "      box-shadow: 0px 1px 2px rgba(60, 64, 67, 0.3), 0px 1px 3px 1px rgba(60, 64, 67, 0.15);\n",
              "      fill: #174EA6;\n",
              "    }\n",
              "\n",
              "    .colab-df-buttons div {\n",
              "      margin-bottom: 4px;\n",
              "    }\n",
              "\n",
              "    [theme=dark] .colab-df-convert {\n",
              "      background-color: #3B4455;\n",
              "      fill: #D2E3FC;\n",
              "    }\n",
              "\n",
              "    [theme=dark] .colab-df-convert:hover {\n",
              "      background-color: #434B5C;\n",
              "      box-shadow: 0px 1px 3px 1px rgba(0, 0, 0, 0.15);\n",
              "      filter: drop-shadow(0px 1px 2px rgba(0, 0, 0, 0.3));\n",
              "      fill: #FFFFFF;\n",
              "    }\n",
              "  </style>\n",
              "\n",
              "    <script>\n",
              "      const buttonEl =\n",
              "        document.querySelector('#df-5330aa57-543b-4a19-8cc4-8966cef80bc5 button.colab-df-convert');\n",
              "      buttonEl.style.display =\n",
              "        google.colab.kernel.accessAllowed ? 'block' : 'none';\n",
              "\n",
              "      async function convertToInteractive(key) {\n",
              "        const element = document.querySelector('#df-5330aa57-543b-4a19-8cc4-8966cef80bc5');\n",
              "        const dataTable =\n",
              "          await google.colab.kernel.invokeFunction('convertToInteractive',\n",
              "                                                    [key], {});\n",
              "        if (!dataTable) return;\n",
              "\n",
              "        const docLinkHtml = 'Like what you see? Visit the ' +\n",
              "          '<a target=\"_blank\" href=https://colab.research.google.com/notebooks/data_table.ipynb>data table notebook</a>'\n",
              "          + ' to learn more about interactive tables.';\n",
              "        element.innerHTML = '';\n",
              "        dataTable['output_type'] = 'display_data';\n",
              "        await google.colab.output.renderOutput(dataTable, element);\n",
              "        const docLink = document.createElement('div');\n",
              "        docLink.innerHTML = docLinkHtml;\n",
              "        element.appendChild(docLink);\n",
              "      }\n",
              "    </script>\n",
              "  </div>\n",
              "\n",
              "\n",
              "<div id=\"df-27cbb10d-3b48-4ca7-8680-18732bc2d91a\">\n",
              "  <button class=\"colab-df-quickchart\" onclick=\"quickchart('df-27cbb10d-3b48-4ca7-8680-18732bc2d91a')\"\n",
              "            title=\"Suggest charts\"\n",
              "            style=\"display:none;\">\n",
              "\n",
              "<svg xmlns=\"http://www.w3.org/2000/svg\" height=\"24px\"viewBox=\"0 0 24 24\"\n",
              "     width=\"24px\">\n",
              "    <g>\n",
              "        <path d=\"M19 3H5c-1.1 0-2 .9-2 2v14c0 1.1.9 2 2 2h14c1.1 0 2-.9 2-2V5c0-1.1-.9-2-2-2zM9 17H7v-7h2v7zm4 0h-2V7h2v10zm4 0h-2v-4h2v4z\"/>\n",
              "    </g>\n",
              "</svg>\n",
              "  </button>\n",
              "\n",
              "<style>\n",
              "  .colab-df-quickchart {\n",
              "      --bg-color: #E8F0FE;\n",
              "      --fill-color: #1967D2;\n",
              "      --hover-bg-color: #E2EBFA;\n",
              "      --hover-fill-color: #174EA6;\n",
              "      --disabled-fill-color: #AAA;\n",
              "      --disabled-bg-color: #DDD;\n",
              "  }\n",
              "\n",
              "  [theme=dark] .colab-df-quickchart {\n",
              "      --bg-color: #3B4455;\n",
              "      --fill-color: #D2E3FC;\n",
              "      --hover-bg-color: #434B5C;\n",
              "      --hover-fill-color: #FFFFFF;\n",
              "      --disabled-bg-color: #3B4455;\n",
              "      --disabled-fill-color: #666;\n",
              "  }\n",
              "\n",
              "  .colab-df-quickchart {\n",
              "    background-color: var(--bg-color);\n",
              "    border: none;\n",
              "    border-radius: 50%;\n",
              "    cursor: pointer;\n",
              "    display: none;\n",
              "    fill: var(--fill-color);\n",
              "    height: 32px;\n",
              "    padding: 0;\n",
              "    width: 32px;\n",
              "  }\n",
              "\n",
              "  .colab-df-quickchart:hover {\n",
              "    background-color: var(--hover-bg-color);\n",
              "    box-shadow: 0 1px 2px rgba(60, 64, 67, 0.3), 0 1px 3px 1px rgba(60, 64, 67, 0.15);\n",
              "    fill: var(--button-hover-fill-color);\n",
              "  }\n",
              "\n",
              "  .colab-df-quickchart-complete:disabled,\n",
              "  .colab-df-quickchart-complete:disabled:hover {\n",
              "    background-color: var(--disabled-bg-color);\n",
              "    fill: var(--disabled-fill-color);\n",
              "    box-shadow: none;\n",
              "  }\n",
              "\n",
              "  .colab-df-spinner {\n",
              "    border: 2px solid var(--fill-color);\n",
              "    border-color: transparent;\n",
              "    border-bottom-color: var(--fill-color);\n",
              "    animation:\n",
              "      spin 1s steps(1) infinite;\n",
              "  }\n",
              "\n",
              "  @keyframes spin {\n",
              "    0% {\n",
              "      border-color: transparent;\n",
              "      border-bottom-color: var(--fill-color);\n",
              "      border-left-color: var(--fill-color);\n",
              "    }\n",
              "    20% {\n",
              "      border-color: transparent;\n",
              "      border-left-color: var(--fill-color);\n",
              "      border-top-color: var(--fill-color);\n",
              "    }\n",
              "    30% {\n",
              "      border-color: transparent;\n",
              "      border-left-color: var(--fill-color);\n",
              "      border-top-color: var(--fill-color);\n",
              "      border-right-color: var(--fill-color);\n",
              "    }\n",
              "    40% {\n",
              "      border-color: transparent;\n",
              "      border-right-color: var(--fill-color);\n",
              "      border-top-color: var(--fill-color);\n",
              "    }\n",
              "    60% {\n",
              "      border-color: transparent;\n",
              "      border-right-color: var(--fill-color);\n",
              "    }\n",
              "    80% {\n",
              "      border-color: transparent;\n",
              "      border-right-color: var(--fill-color);\n",
              "      border-bottom-color: var(--fill-color);\n",
              "    }\n",
              "    90% {\n",
              "      border-color: transparent;\n",
              "      border-bottom-color: var(--fill-color);\n",
              "    }\n",
              "  }\n",
              "</style>\n",
              "\n",
              "  <script>\n",
              "    async function quickchart(key) {\n",
              "      const quickchartButtonEl =\n",
              "        document.querySelector('#' + key + ' button');\n",
              "      quickchartButtonEl.disabled = true;  // To prevent multiple clicks.\n",
              "      quickchartButtonEl.classList.add('colab-df-spinner');\n",
              "      try {\n",
              "        const charts = await google.colab.kernel.invokeFunction(\n",
              "            'suggestCharts', [key], {});\n",
              "      } catch (error) {\n",
              "        console.error('Error during call to suggestCharts:', error);\n",
              "      }\n",
              "      quickchartButtonEl.classList.remove('colab-df-spinner');\n",
              "      quickchartButtonEl.classList.add('colab-df-quickchart-complete');\n",
              "    }\n",
              "    (() => {\n",
              "      let quickchartButtonEl =\n",
              "        document.querySelector('#df-27cbb10d-3b48-4ca7-8680-18732bc2d91a button');\n",
              "      quickchartButtonEl.style.display =\n",
              "        google.colab.kernel.accessAllowed ? 'block' : 'none';\n",
              "    })();\n",
              "  </script>\n",
              "</div>\n",
              "\n",
              "    </div>\n",
              "  </div>\n"
            ],
            "application/vnd.google.colaboratory.intrinsic+json": {
              "type": "dataframe",
              "variable_name": "sampled_df",
              "repr_error": "0"
            }
          },
          "metadata": {},
          "execution_count": 25
        }
      ]
    },
    {
      "cell_type": "code",
      "source": [
        "# Разбиваем данные на трейн и тест еще раз\n",
        "X_train_2, X_test_2, y_train_2, y_test_2 = train_test_split(sampled_df['tokens_no_stopwords'], sampled_df['is_politics'], test_size=0.25, random_state=42, stratify=sampled_df['is_politics'])\n"
      ],
      "metadata": {
        "id": "7yIXihLHwW23"
      },
      "id": "7yIXihLHwW23",
      "execution_count": 26,
      "outputs": []
    },
    {
      "cell_type": "code",
      "source": [
        "import gensim\n",
        "\n",
        "# Обучаем Word2Vec модель\n",
        "word2vec_model = gensim.models.Word2Vec(sentences=X_train_2, vector_size=100, window=5, min_count=1, workers=4)\n",
        "\n",
        "# Convert the tokenized text data into Word2Vec embeddings\n",
        "def tokens_to_embedding(tokens, model):\n",
        "    word_vectors = [model.wv[word] for word in tokens if word in model.wv]\n",
        "    if len(word_vectors) == 0:\n",
        "        return np.zeros(model.vector_size)\n",
        "    return np.mean(word_vectors, axis=0)"
      ],
      "metadata": {
        "id": "6lvFB-6Mwgi6"
      },
      "id": "6lvFB-6Mwgi6",
      "execution_count": 27,
      "outputs": []
    },
    {
      "cell_type": "code",
      "source": [
        "# Apply the tokens_to_embedding function to the train and test sets\n",
        "X_train_embeddings = np.array([tokens_to_embedding(tokens, word2vec_model) for tokens in X_train_2])\n",
        "X_test_embeddings = np.array([tokens_to_embedding(tokens, word2vec_model) for tokens in X_test_2])\n"
      ],
      "metadata": {
        "id": "-otmJ3-MrwOH"
      },
      "id": "-otmJ3-MrwOH",
      "execution_count": 28,
      "outputs": []
    },
    {
      "cell_type": "code",
      "source": [
        "# Train the model\n",
        "classifier = LogisticRegression()\n",
        "classifier.fit(X_train_embeddings, y_train_2)"
      ],
      "metadata": {
        "colab": {
          "base_uri": "https://localhost:8080/",
          "height": 218
        },
        "id": "RQI_zf7wr5Qc",
        "outputId": "6691a95c-52f6-4177-8224-fd4440755dd8"
      },
      "id": "RQI_zf7wr5Qc",
      "execution_count": 29,
      "outputs": [
        {
          "output_type": "stream",
          "name": "stderr",
          "text": [
            "/usr/local/lib/python3.10/dist-packages/sklearn/linear_model/_logistic.py:460: ConvergenceWarning: lbfgs failed to converge (status=1):\n",
            "STOP: TOTAL NO. of ITERATIONS REACHED LIMIT.\n",
            "\n",
            "Increase the number of iterations (max_iter) or scale the data as shown in:\n",
            "    https://scikit-learn.org/stable/modules/preprocessing.html\n",
            "Please also refer to the documentation for alternative solver options:\n",
            "    https://scikit-learn.org/stable/modules/linear_model.html#logistic-regression\n",
            "  n_iter_i = _check_optimize_result(\n"
          ]
        },
        {
          "output_type": "execute_result",
          "data": {
            "text/plain": [
              "LogisticRegression()"
            ],
            "text/html": [
              "<style>#sk-container-id-2 {color: black;}#sk-container-id-2 pre{padding: 0;}#sk-container-id-2 div.sk-toggleable {background-color: white;}#sk-container-id-2 label.sk-toggleable__label {cursor: pointer;display: block;width: 100%;margin-bottom: 0;padding: 0.3em;box-sizing: border-box;text-align: center;}#sk-container-id-2 label.sk-toggleable__label-arrow:before {content: \"▸\";float: left;margin-right: 0.25em;color: #696969;}#sk-container-id-2 label.sk-toggleable__label-arrow:hover:before {color: black;}#sk-container-id-2 div.sk-estimator:hover label.sk-toggleable__label-arrow:before {color: black;}#sk-container-id-2 div.sk-toggleable__content {max-height: 0;max-width: 0;overflow: hidden;text-align: left;background-color: #f0f8ff;}#sk-container-id-2 div.sk-toggleable__content pre {margin: 0.2em;color: black;border-radius: 0.25em;background-color: #f0f8ff;}#sk-container-id-2 input.sk-toggleable__control:checked~div.sk-toggleable__content {max-height: 200px;max-width: 100%;overflow: auto;}#sk-container-id-2 input.sk-toggleable__control:checked~label.sk-toggleable__label-arrow:before {content: \"▾\";}#sk-container-id-2 div.sk-estimator input.sk-toggleable__control:checked~label.sk-toggleable__label {background-color: #d4ebff;}#sk-container-id-2 div.sk-label input.sk-toggleable__control:checked~label.sk-toggleable__label {background-color: #d4ebff;}#sk-container-id-2 input.sk-hidden--visually {border: 0;clip: rect(1px 1px 1px 1px);clip: rect(1px, 1px, 1px, 1px);height: 1px;margin: -1px;overflow: hidden;padding: 0;position: absolute;width: 1px;}#sk-container-id-2 div.sk-estimator {font-family: monospace;background-color: #f0f8ff;border: 1px dotted black;border-radius: 0.25em;box-sizing: border-box;margin-bottom: 0.5em;}#sk-container-id-2 div.sk-estimator:hover {background-color: #d4ebff;}#sk-container-id-2 div.sk-parallel-item::after {content: \"\";width: 100%;border-bottom: 1px solid gray;flex-grow: 1;}#sk-container-id-2 div.sk-label:hover label.sk-toggleable__label {background-color: #d4ebff;}#sk-container-id-2 div.sk-serial::before {content: \"\";position: absolute;border-left: 1px solid gray;box-sizing: border-box;top: 0;bottom: 0;left: 50%;z-index: 0;}#sk-container-id-2 div.sk-serial {display: flex;flex-direction: column;align-items: center;background-color: white;padding-right: 0.2em;padding-left: 0.2em;position: relative;}#sk-container-id-2 div.sk-item {position: relative;z-index: 1;}#sk-container-id-2 div.sk-parallel {display: flex;align-items: stretch;justify-content: center;background-color: white;position: relative;}#sk-container-id-2 div.sk-item::before, #sk-container-id-2 div.sk-parallel-item::before {content: \"\";position: absolute;border-left: 1px solid gray;box-sizing: border-box;top: 0;bottom: 0;left: 50%;z-index: -1;}#sk-container-id-2 div.sk-parallel-item {display: flex;flex-direction: column;z-index: 1;position: relative;background-color: white;}#sk-container-id-2 div.sk-parallel-item:first-child::after {align-self: flex-end;width: 50%;}#sk-container-id-2 div.sk-parallel-item:last-child::after {align-self: flex-start;width: 50%;}#sk-container-id-2 div.sk-parallel-item:only-child::after {width: 0;}#sk-container-id-2 div.sk-dashed-wrapped {border: 1px dashed gray;margin: 0 0.4em 0.5em 0.4em;box-sizing: border-box;padding-bottom: 0.4em;background-color: white;}#sk-container-id-2 div.sk-label label {font-family: monospace;font-weight: bold;display: inline-block;line-height: 1.2em;}#sk-container-id-2 div.sk-label-container {text-align: center;}#sk-container-id-2 div.sk-container {/* jupyter's `normalize.less` sets `[hidden] { display: none; }` but bootstrap.min.css set `[hidden] { display: none !important; }` so we also need the `!important` here to be able to override the default hidden behavior on the sphinx rendered scikit-learn.org. See: https://github.com/scikit-learn/scikit-learn/issues/21755 */display: inline-block !important;position: relative;}#sk-container-id-2 div.sk-text-repr-fallback {display: none;}</style><div id=\"sk-container-id-2\" class=\"sk-top-container\"><div class=\"sk-text-repr-fallback\"><pre>LogisticRegression()</pre><b>In a Jupyter environment, please rerun this cell to show the HTML representation or trust the notebook. <br />On GitHub, the HTML representation is unable to render, please try loading this page with nbviewer.org.</b></div><div class=\"sk-container\" hidden><div class=\"sk-item\"><div class=\"sk-estimator sk-toggleable\"><input class=\"sk-toggleable__control sk-hidden--visually\" id=\"sk-estimator-id-2\" type=\"checkbox\" checked><label for=\"sk-estimator-id-2\" class=\"sk-toggleable__label sk-toggleable__label-arrow\">LogisticRegression</label><div class=\"sk-toggleable__content\"><pre>LogisticRegression()</pre></div></div></div></div></div>"
            ]
          },
          "metadata": {},
          "execution_count": 29
        }
      ]
    },
    {
      "cell_type": "code",
      "source": [
        "# Оцениваем модель\n",
        "y_pred_2 = classifier.predict(X_test_embeddings)"
      ],
      "metadata": {
        "id": "LCtYs7CmwrjU"
      },
      "id": "LCtYs7CmwrjU",
      "execution_count": 30,
      "outputs": []
    },
    {
      "cell_type": "code",
      "source": [
        "# Оцениваем качество модели\n",
        "print(classification_report(y_test_2, y_pred_2))"
      ],
      "metadata": {
        "colab": {
          "base_uri": "https://localhost:8080/"
        },
        "id": "E3yUEHGIsf2s",
        "outputId": "ac14d69c-ea68-4f74-a5c7-bebe21b3ea42"
      },
      "id": "E3yUEHGIsf2s",
      "execution_count": 31,
      "outputs": [
        {
          "output_type": "stream",
          "name": "stdout",
          "text": [
            "              precision    recall  f1-score   support\n",
            "\n",
            "           0       0.92      0.92      0.92      6260\n",
            "           1       0.92      0.92      0.92      6240\n",
            "\n",
            "    accuracy                           0.92     12500\n",
            "   macro avg       0.92      0.92      0.92     12500\n",
            "weighted avg       0.92      0.92      0.92     12500\n",
            "\n"
          ]
        }
      ]
    },
    {
      "cell_type": "markdown",
      "source": [
        "# Подход Решающие деревья"
      ],
      "metadata": {
        "id": "6rNmpHuwX1jr"
      },
      "id": "6rNmpHuwX1jr"
    },
    {
      "cell_type": "code",
      "source": [
        "# Objective function for Optuna\n",
        "def objective(trial):\n",
        "    criterion = trial.suggest_categorical('criterion', ['gini', 'entropy'])\n",
        "    splitter = trial.suggest_categorical('splitter', ['best', 'random'])\n",
        "    max_depth = trial.suggest_int('max_depth', 1, 40)\n",
        "    min_samples_split = trial.suggest_int('min_samples_split', 2, 20)\n",
        "    min_samples_leaf = trial.suggest_int('min_samples_leaf', 1, 20)\n",
        "\n",
        "    dt_classifier = DecisionTreeClassifier(\n",
        "        criterion=criterion,\n",
        "        splitter=splitter,\n",
        "        max_depth=max_depth,\n",
        "        min_samples_split=min_samples_split,\n",
        "        min_samples_leaf=min_samples_leaf,\n",
        "        random_state=42\n",
        "    )\n",
        "    dt_classifier.fit(X_train_tfidf, y_train)\n",
        "    y_pred = dt_classifier.predict(X_test_tfidf)\n",
        "    accuracy = accuracy_score(y_test, y_pred)\n",
        "    return accuracy\n"
      ],
      "metadata": {
        "id": "HOux-QICYTIg"
      },
      "id": "HOux-QICYTIg",
      "execution_count": 63,
      "outputs": []
    },
    {
      "cell_type": "code",
      "source": [
        "# Create a study and optimize it\n",
        "study = optuna.create_study(direction='maximize')\n",
        "study.optimize(objective, n_trials=100)"
      ],
      "metadata": {
        "colab": {
          "base_uri": "https://localhost:8080/"
        },
        "id": "KS9d2Aymb60A",
        "outputId": "6c512bca-7c98-4936-f65f-ccc383c71ce8"
      },
      "id": "KS9d2Aymb60A",
      "execution_count": 64,
      "outputs": [
        {
          "output_type": "stream",
          "name": "stderr",
          "text": [
            "[I 2024-08-01 15:37:40,748] A new study created in memory with name: no-name-9e587f99-8355-4d57-afbd-4e8520ecf241\n",
            "[I 2024-08-01 15:37:45,351] Trial 0 finished with value: 0.8044 and parameters: {'criterion': 'entropy', 'splitter': 'random', 'max_depth': 9, 'min_samples_split': 15, 'min_samples_leaf': 19}. Best is trial 0 with value: 0.8044.\n",
            "[I 2024-08-01 15:37:50,188] Trial 1 finished with value: 0.8192 and parameters: {'criterion': 'entropy', 'splitter': 'random', 'max_depth': 9, 'min_samples_split': 16, 'min_samples_leaf': 10}. Best is trial 1 with value: 0.8192.\n",
            "[I 2024-08-01 15:37:59,915] Trial 2 finished with value: 0.8432 and parameters: {'criterion': 'gini', 'splitter': 'random', 'max_depth': 14, 'min_samples_split': 19, 'min_samples_leaf': 6}. Best is trial 2 with value: 0.8432.\n",
            "[I 2024-08-01 15:38:25,162] Trial 3 finished with value: 0.85288 and parameters: {'criterion': 'gini', 'splitter': 'random', 'max_depth': 33, 'min_samples_split': 10, 'min_samples_leaf': 8}. Best is trial 3 with value: 0.85288.\n",
            "[I 2024-08-01 15:38:54,012] Trial 4 finished with value: 0.84808 and parameters: {'criterion': 'entropy', 'splitter': 'best', 'max_depth': 26, 'min_samples_split': 20, 'min_samples_leaf': 15}. Best is trial 3 with value: 0.85288.\n",
            "[I 2024-08-01 15:39:15,766] Trial 5 finished with value: 0.8464 and parameters: {'criterion': 'entropy', 'splitter': 'best', 'max_depth': 16, 'min_samples_split': 6, 'min_samples_leaf': 5}. Best is trial 3 with value: 0.85288.\n",
            "[I 2024-08-01 15:39:47,577] Trial 6 finished with value: 0.85576 and parameters: {'criterion': 'gini', 'splitter': 'best', 'max_depth': 26, 'min_samples_split': 5, 'min_samples_leaf': 5}. Best is trial 6 with value: 0.85576.\n",
            "[I 2024-08-01 15:40:06,304] Trial 7 finished with value: 0.85272 and parameters: {'criterion': 'gini', 'splitter': 'random', 'max_depth': 24, 'min_samples_split': 18, 'min_samples_leaf': 5}. Best is trial 6 with value: 0.85576.\n",
            "[I 2024-08-01 15:40:22,492] Trial 8 finished with value: 0.84352 and parameters: {'criterion': 'entropy', 'splitter': 'best', 'max_depth': 14, 'min_samples_split': 20, 'min_samples_leaf': 18}. Best is trial 6 with value: 0.85576.\n",
            "[I 2024-08-01 15:40:46,102] Trial 9 finished with value: 0.84768 and parameters: {'criterion': 'entropy', 'splitter': 'random', 'max_depth': 29, 'min_samples_split': 16, 'min_samples_leaf': 10}. Best is trial 6 with value: 0.85576.\n",
            "[I 2024-08-01 15:41:34,701] Trial 10 finished with value: 0.8576 and parameters: {'criterion': 'gini', 'splitter': 'best', 'max_depth': 38, 'min_samples_split': 2, 'min_samples_leaf': 1}. Best is trial 10 with value: 0.8576.\n",
            "[I 2024-08-01 15:42:23,063] Trial 11 finished with value: 0.85944 and parameters: {'criterion': 'gini', 'splitter': 'best', 'max_depth': 40, 'min_samples_split': 2, 'min_samples_leaf': 2}. Best is trial 11 with value: 0.85944.\n",
            "[I 2024-08-01 15:43:13,618] Trial 12 finished with value: 0.85864 and parameters: {'criterion': 'gini', 'splitter': 'best', 'max_depth': 40, 'min_samples_split': 2, 'min_samples_leaf': 1}. Best is trial 11 with value: 0.85944.\n",
            "[I 2024-08-01 15:44:04,518] Trial 13 finished with value: 0.85864 and parameters: {'criterion': 'gini', 'splitter': 'best', 'max_depth': 40, 'min_samples_split': 2, 'min_samples_leaf': 1}. Best is trial 11 with value: 0.85944.\n",
            "[I 2024-08-01 15:44:49,095] Trial 14 finished with value: 0.86232 and parameters: {'criterion': 'gini', 'splitter': 'best', 'max_depth': 35, 'min_samples_split': 7, 'min_samples_leaf': 1}. Best is trial 14 with value: 0.86232.\n",
            "[I 2024-08-01 15:45:20,809] Trial 15 finished with value: 0.85376 and parameters: {'criterion': 'gini', 'splitter': 'best', 'max_depth': 33, 'min_samples_split': 9, 'min_samples_leaf': 13}. Best is trial 14 with value: 0.86232.\n",
            "[I 2024-08-01 15:46:01,950] Trial 16 finished with value: 0.86008 and parameters: {'criterion': 'gini', 'splitter': 'best', 'max_depth': 34, 'min_samples_split': 6, 'min_samples_leaf': 3}. Best is trial 14 with value: 0.86232.\n",
            "[I 2024-08-01 15:46:42,643] Trial 17 finished with value: 0.8568 and parameters: {'criterion': 'gini', 'splitter': 'best', 'max_depth': 33, 'min_samples_split': 6, 'min_samples_leaf': 3}. Best is trial 14 with value: 0.86232.\n",
            "[I 2024-08-01 15:46:45,046] Trial 18 finished with value: 0.74936 and parameters: {'criterion': 'gini', 'splitter': 'best', 'max_depth': 3, 'min_samples_split': 12, 'min_samples_leaf': 8}. Best is trial 14 with value: 0.86232.\n",
            "[I 2024-08-01 15:47:11,777] Trial 19 finished with value: 0.85568 and parameters: {'criterion': 'gini', 'splitter': 'best', 'max_depth': 20, 'min_samples_split': 8, 'min_samples_leaf': 3}. Best is trial 14 with value: 0.86232.\n",
            "[I 2024-08-01 15:47:49,971] Trial 20 finished with value: 0.85432 and parameters: {'criterion': 'gini', 'splitter': 'best', 'max_depth': 36, 'min_samples_split': 12, 'min_samples_leaf': 7}. Best is trial 14 with value: 0.86232.\n",
            "[I 2024-08-01 15:48:32,114] Trial 21 finished with value: 0.8576 and parameters: {'criterion': 'gini', 'splitter': 'best', 'max_depth': 35, 'min_samples_split': 4, 'min_samples_leaf': 3}. Best is trial 14 with value: 0.86232.\n",
            "[I 2024-08-01 15:49:09,451] Trial 22 finished with value: 0.8588 and parameters: {'criterion': 'gini', 'splitter': 'best', 'max_depth': 30, 'min_samples_split': 7, 'min_samples_leaf': 3}. Best is trial 14 with value: 0.86232.\n",
            "[I 2024-08-01 15:49:57,471] Trial 23 finished with value: 0.86104 and parameters: {'criterion': 'gini', 'splitter': 'best', 'max_depth': 37, 'min_samples_split': 4, 'min_samples_leaf': 1}. Best is trial 14 with value: 0.86232.\n",
            "[I 2024-08-01 15:50:33,275] Trial 24 finished with value: 0.85456 and parameters: {'criterion': 'gini', 'splitter': 'best', 'max_depth': 29, 'min_samples_split': 4, 'min_samples_leaf': 4}. Best is trial 14 with value: 0.86232.\n",
            "[I 2024-08-01 15:51:18,395] Trial 25 finished with value: 0.85968 and parameters: {'criterion': 'gini', 'splitter': 'best', 'max_depth': 36, 'min_samples_split': 8, 'min_samples_leaf': 1}. Best is trial 14 with value: 0.86232.\n",
            "[I 2024-08-01 15:51:42,185] Trial 26 finished with value: 0.84592 and parameters: {'criterion': 'gini', 'splitter': 'best', 'max_depth': 21, 'min_samples_split': 4, 'min_samples_leaf': 12}. Best is trial 14 with value: 0.86232.\n",
            "[I 2024-08-01 15:52:16,838] Trial 27 finished with value: 0.85408 and parameters: {'criterion': 'gini', 'splitter': 'best', 'max_depth': 31, 'min_samples_split': 10, 'min_samples_leaf': 7}. Best is trial 14 with value: 0.86232.\n",
            "[I 2024-08-01 15:52:58,975] Trial 28 finished with value: 0.85168 and parameters: {'criterion': 'gini', 'splitter': 'best', 'max_depth': 37, 'min_samples_split': 6, 'min_samples_leaf': 4}. Best is trial 14 with value: 0.86232.\n",
            "[I 2024-08-01 15:53:17,948] Trial 29 finished with value: 0.84744 and parameters: {'criterion': 'entropy', 'splitter': 'random', 'max_depth': 26, 'min_samples_split': 13, 'min_samples_leaf': 17}. Best is trial 14 with value: 0.86232.\n",
            "[I 2024-08-01 15:53:58,405] Trial 30 finished with value: 0.85936 and parameters: {'criterion': 'gini', 'splitter': 'best', 'max_depth': 33, 'min_samples_split': 8, 'min_samples_leaf': 2}. Best is trial 14 with value: 0.86232.\n",
            "[I 2024-08-01 15:54:43,731] Trial 31 finished with value: 0.85968 and parameters: {'criterion': 'gini', 'splitter': 'best', 'max_depth': 36, 'min_samples_split': 8, 'min_samples_leaf': 1}. Best is trial 14 with value: 0.86232.\n",
            "[I 2024-08-01 15:55:29,423] Trial 32 finished with value: 0.8592 and parameters: {'criterion': 'gini', 'splitter': 'best', 'max_depth': 38, 'min_samples_split': 5, 'min_samples_leaf': 2}. Best is trial 14 with value: 0.86232.\n",
            "[I 2024-08-01 15:56:10,312] Trial 33 finished with value: 0.85336 and parameters: {'criterion': 'gini', 'splitter': 'best', 'max_depth': 35, 'min_samples_split': 7, 'min_samples_leaf': 4}. Best is trial 14 with value: 0.86232.\n",
            "[I 2024-08-01 15:56:37,733] Trial 34 finished with value: 0.86288 and parameters: {'criterion': 'gini', 'splitter': 'random', 'max_depth': 31, 'min_samples_split': 10, 'min_samples_leaf': 1}. Best is trial 34 with value: 0.86288.\n",
            "[I 2024-08-01 15:57:05,163] Trial 35 finished with value: 0.84952 and parameters: {'criterion': 'entropy', 'splitter': 'random', 'max_depth': 31, 'min_samples_split': 10, 'min_samples_leaf': 6}. Best is trial 34 with value: 0.86288.\n",
            "[I 2024-08-01 15:57:29,139] Trial 36 finished with value: 0.86256 and parameters: {'criterion': 'gini', 'splitter': 'random', 'max_depth': 28, 'min_samples_split': 14, 'min_samples_leaf': 2}. Best is trial 34 with value: 0.86288.\n",
            "[I 2024-08-01 15:57:43,575] Trial 37 finished with value: 0.85656 and parameters: {'criterion': 'gini', 'splitter': 'random', 'max_depth': 23, 'min_samples_split': 14, 'min_samples_leaf': 20}. Best is trial 34 with value: 0.86288.\n",
            "[I 2024-08-01 15:58:07,328] Trial 38 finished with value: 0.84392 and parameters: {'criterion': 'entropy', 'splitter': 'random', 'max_depth': 28, 'min_samples_split': 15, 'min_samples_leaf': 9}. Best is trial 34 with value: 0.86288.\n",
            "[I 2024-08-01 15:58:32,823] Trial 39 finished with value: 0.8572 and parameters: {'criterion': 'gini', 'splitter': 'random', 'max_depth': 31, 'min_samples_split': 11, 'min_samples_leaf': 2}. Best is trial 34 with value: 0.86288.\n",
            "[I 2024-08-01 15:58:49,830] Trial 40 finished with value: 0.84432 and parameters: {'criterion': 'entropy', 'splitter': 'random', 'max_depth': 19, 'min_samples_split': 14, 'min_samples_leaf': 5}. Best is trial 34 with value: 0.86288.\n",
            "[I 2024-08-01 15:59:13,063] Trial 41 finished with value: 0.85816 and parameters: {'criterion': 'gini', 'splitter': 'random', 'max_depth': 27, 'min_samples_split': 17, 'min_samples_leaf': 2}. Best is trial 34 with value: 0.86288.\n",
            "[I 2024-08-01 15:59:40,832] Trial 42 finished with value: 0.85744 and parameters: {'criterion': 'gini', 'splitter': 'random', 'max_depth': 34, 'min_samples_split': 5, 'min_samples_leaf': 4}. Best is trial 34 with value: 0.86288.\n",
            "[I 2024-08-01 16:00:02,196] Trial 43 finished with value: 0.85496 and parameters: {'criterion': 'gini', 'splitter': 'random', 'max_depth': 24, 'min_samples_split': 3, 'min_samples_leaf': 3}. Best is trial 34 with value: 0.86288.\n",
            "[I 2024-08-01 16:00:31,264] Trial 44 finished with value: 0.86216 and parameters: {'criterion': 'gini', 'splitter': 'random', 'max_depth': 32, 'min_samples_split': 9, 'min_samples_leaf': 1}. Best is trial 34 with value: 0.86288.\n",
            "[I 2024-08-01 16:00:59,822] Trial 45 finished with value: 0.86168 and parameters: {'criterion': 'gini', 'splitter': 'random', 'max_depth': 32, 'min_samples_split': 11, 'min_samples_leaf': 1}. Best is trial 34 with value: 0.86288.\n",
            "[I 2024-08-01 16:01:20,057] Trial 46 finished with value: 0.8508 and parameters: {'criterion': 'gini', 'splitter': 'random', 'max_depth': 25, 'min_samples_split': 11, 'min_samples_leaf': 6}. Best is trial 34 with value: 0.86288.\n",
            "[I 2024-08-01 16:01:46,296] Trial 47 finished with value: 0.85928 and parameters: {'criterion': 'gini', 'splitter': 'random', 'max_depth': 28, 'min_samples_split': 10, 'min_samples_leaf': 1}. Best is trial 34 with value: 0.86288.\n",
            "[I 2024-08-01 16:02:13,424] Trial 48 finished with value: 0.8664 and parameters: {'criterion': 'gini', 'splitter': 'random', 'max_depth': 32, 'min_samples_split': 9, 'min_samples_leaf': 2}. Best is trial 48 with value: 0.8664.\n",
            "[I 2024-08-01 16:02:27,339] Trial 49 finished with value: 0.8408 and parameters: {'criterion': 'entropy', 'splitter': 'random', 'max_depth': 17, 'min_samples_split': 9, 'min_samples_leaf': 15}. Best is trial 48 with value: 0.8664.\n",
            "[I 2024-08-01 16:02:44,383] Trial 50 finished with value: 0.85984 and parameters: {'criterion': 'gini', 'splitter': 'random', 'max_depth': 22, 'min_samples_split': 9, 'min_samples_leaf': 5}. Best is trial 48 with value: 0.8664.\n",
            "[I 2024-08-01 16:03:11,954] Trial 51 finished with value: 0.85912 and parameters: {'criterion': 'gini', 'splitter': 'random', 'max_depth': 32, 'min_samples_split': 12, 'min_samples_leaf': 2}. Best is trial 48 with value: 0.8664.\n",
            "[I 2024-08-01 16:03:36,645] Trial 52 finished with value: 0.85656 and parameters: {'criterion': 'gini', 'splitter': 'random', 'max_depth': 29, 'min_samples_split': 13, 'min_samples_leaf': 1}. Best is trial 48 with value: 0.8664.\n",
            "[I 2024-08-01 16:04:05,643] Trial 53 finished with value: 0.86056 and parameters: {'criterion': 'gini', 'splitter': 'random', 'max_depth': 32, 'min_samples_split': 10, 'min_samples_leaf': 2}. Best is trial 48 with value: 0.8664.\n",
            "[I 2024-08-01 16:04:11,697] Trial 54 finished with value: 0.82592 and parameters: {'criterion': 'gini', 'splitter': 'random', 'max_depth': 10, 'min_samples_split': 11, 'min_samples_leaf': 3}. Best is trial 48 with value: 0.8664.\n",
            "[I 2024-08-01 16:04:44,618] Trial 55 finished with value: 0.86808 and parameters: {'criterion': 'gini', 'splitter': 'random', 'max_depth': 39, 'min_samples_split': 9, 'min_samples_leaf': 1}. Best is trial 55 with value: 0.86808.\n",
            "[I 2024-08-01 16:05:16,092] Trial 56 finished with value: 0.85872 and parameters: {'criterion': 'gini', 'splitter': 'random', 'max_depth': 39, 'min_samples_split': 7, 'min_samples_leaf': 2}. Best is trial 55 with value: 0.86808.\n",
            "[I 2024-08-01 16:05:45,255] Trial 57 finished with value: 0.85416 and parameters: {'criterion': 'gini', 'splitter': 'random', 'max_depth': 38, 'min_samples_split': 9, 'min_samples_leaf': 4}. Best is trial 55 with value: 0.86808.\n",
            "[I 2024-08-01 16:05:45,547] Trial 58 finished with value: 0.6552 and parameters: {'criterion': 'gini', 'splitter': 'random', 'max_depth': 1, 'min_samples_split': 9, 'min_samples_leaf': 3}. Best is trial 55 with value: 0.86808.\n",
            "[I 2024-08-01 16:06:18,061] Trial 59 finished with value: 0.86232 and parameters: {'criterion': 'gini', 'splitter': 'random', 'max_depth': 35, 'min_samples_split': 7, 'min_samples_leaf': 1}. Best is trial 55 with value: 0.86808.\n",
            "[I 2024-08-01 16:06:40,794] Trial 60 finished with value: 0.8544 and parameters: {'criterion': 'gini', 'splitter': 'random', 'max_depth': 34, 'min_samples_split': 8, 'min_samples_leaf': 12}. Best is trial 55 with value: 0.86808.\n",
            "[I 2024-08-01 16:07:12,937] Trial 61 finished with value: 0.86232 and parameters: {'criterion': 'gini', 'splitter': 'random', 'max_depth': 35, 'min_samples_split': 7, 'min_samples_leaf': 1}. Best is trial 55 with value: 0.86808.\n",
            "[I 2024-08-01 16:07:45,180] Trial 62 finished with value: 0.86136 and parameters: {'criterion': 'gini', 'splitter': 'random', 'max_depth': 40, 'min_samples_split': 7, 'min_samples_leaf': 2}. Best is trial 55 with value: 0.86808.\n",
            "[I 2024-08-01 16:08:17,661] Trial 63 finished with value: 0.8648 and parameters: {'criterion': 'gini', 'splitter': 'random', 'max_depth': 35, 'min_samples_split': 6, 'min_samples_leaf': 1}. Best is trial 55 with value: 0.86808.\n",
            "[I 2024-08-01 16:08:46,557] Trial 64 finished with value: 0.8656 and parameters: {'criterion': 'gini', 'splitter': 'random', 'max_depth': 37, 'min_samples_split': 8, 'min_samples_leaf': 3}. Best is trial 55 with value: 0.86808.\n",
            "[I 2024-08-01 16:09:13,764] Trial 65 finished with value: 0.862 and parameters: {'criterion': 'gini', 'splitter': 'random', 'max_depth': 38, 'min_samples_split': 19, 'min_samples_leaf': 3}. Best is trial 55 with value: 0.86808.\n",
            "[I 2024-08-01 16:09:44,152] Trial 66 finished with value: 0.85456 and parameters: {'criterion': 'gini', 'splitter': 'random', 'max_depth': 37, 'min_samples_split': 6, 'min_samples_leaf': 4}. Best is trial 55 with value: 0.86808.\n",
            "[I 2024-08-01 16:10:12,374] Trial 67 finished with value: 0.86176 and parameters: {'criterion': 'gini', 'splitter': 'random', 'max_depth': 30, 'min_samples_split': 5, 'min_samples_leaf': 2}. Best is trial 55 with value: 0.86808.\n",
            "[I 2024-08-01 16:10:44,451] Trial 68 finished with value: 0.8448 and parameters: {'criterion': 'entropy', 'splitter': 'random', 'max_depth': 39, 'min_samples_split': 8, 'min_samples_leaf': 5}. Best is trial 55 with value: 0.86808.\n",
            "[I 2024-08-01 16:11:13,357] Trial 69 finished with value: 0.85896 and parameters: {'criterion': 'gini', 'splitter': 'random', 'max_depth': 36, 'min_samples_split': 16, 'min_samples_leaf': 2}. Best is trial 55 with value: 0.86808.\n",
            "[I 2024-08-01 16:11:44,895] Trial 70 finished with value: 0.85008 and parameters: {'criterion': 'gini', 'splitter': 'random', 'max_depth': 34, 'min_samples_split': 6, 'min_samples_leaf': 3}. Best is trial 55 with value: 0.86808.\n",
            "[I 2024-08-01 16:12:16,854] Trial 71 finished with value: 0.86232 and parameters: {'criterion': 'gini', 'splitter': 'random', 'max_depth': 35, 'min_samples_split': 7, 'min_samples_leaf': 1}. Best is trial 55 with value: 0.86808.\n",
            "[I 2024-08-01 16:12:50,602] Trial 72 finished with value: 0.85632 and parameters: {'criterion': 'gini', 'splitter': 'random', 'max_depth': 39, 'min_samples_split': 10, 'min_samples_leaf': 1}. Best is trial 55 with value: 0.86808.\n",
            "[I 2024-08-01 16:13:20,550] Trial 73 finished with value: 0.86152 and parameters: {'criterion': 'gini', 'splitter': 'random', 'max_depth': 37, 'min_samples_split': 8, 'min_samples_leaf': 2}. Best is trial 55 with value: 0.86808.\n",
            "[I 2024-08-01 16:13:51,952] Trial 74 finished with value: 0.86272 and parameters: {'criterion': 'gini', 'splitter': 'random', 'max_depth': 33, 'min_samples_split': 6, 'min_samples_leaf': 1}. Best is trial 55 with value: 0.86808.\n",
            "[I 2024-08-01 16:14:17,871] Trial 75 finished with value: 0.8636 and parameters: {'criterion': 'gini', 'splitter': 'random', 'max_depth': 30, 'min_samples_split': 5, 'min_samples_leaf': 3}. Best is trial 55 with value: 0.86808.\n",
            "[I 2024-08-01 16:14:43,451] Trial 76 finished with value: 0.8636 and parameters: {'criterion': 'gini', 'splitter': 'random', 'max_depth': 30, 'min_samples_split': 5, 'min_samples_leaf': 3}. Best is trial 55 with value: 0.86808.\n",
            "[I 2024-08-01 16:15:09,415] Trial 77 finished with value: 0.85368 and parameters: {'criterion': 'gini', 'splitter': 'random', 'max_depth': 30, 'min_samples_split': 3, 'min_samples_leaf': 4}. Best is trial 55 with value: 0.86808.\n",
            "[I 2024-08-01 16:15:37,162] Trial 78 finished with value: 0.85904 and parameters: {'criterion': 'gini', 'splitter': 'random', 'max_depth': 33, 'min_samples_split': 3, 'min_samples_leaf': 3}. Best is trial 55 with value: 0.86808.\n",
            "[I 2024-08-01 16:16:00,509] Trial 79 finished with value: 0.85672 and parameters: {'criterion': 'gini', 'splitter': 'random', 'max_depth': 27, 'min_samples_split': 6, 'min_samples_leaf': 4}. Best is trial 55 with value: 0.86808.\n",
            "[I 2024-08-01 16:16:30,000] Trial 80 finished with value: 0.85472 and parameters: {'criterion': 'entropy', 'splitter': 'random', 'max_depth': 31, 'min_samples_split': 6, 'min_samples_leaf': 3}. Best is trial 55 with value: 0.86808.\n",
            "[I 2024-08-01 16:16:53,637] Trial 81 finished with value: 0.854 and parameters: {'criterion': 'gini', 'splitter': 'random', 'max_depth': 29, 'min_samples_split': 5, 'min_samples_leaf': 5}. Best is trial 55 with value: 0.86808.\n",
            "[I 2024-08-01 16:17:23,232] Trial 82 finished with value: 0.86528 and parameters: {'criterion': 'gini', 'splitter': 'random', 'max_depth': 33, 'min_samples_split': 4, 'min_samples_leaf': 2}. Best is trial 55 with value: 0.86808.\n",
            "[I 2024-08-01 16:17:56,259] Trial 83 finished with value: 0.86088 and parameters: {'criterion': 'gini', 'splitter': 'random', 'max_depth': 33, 'min_samples_split': 4, 'min_samples_leaf': 1}. Best is trial 55 with value: 0.86808.\n",
            "[I 2024-08-01 16:18:26,493] Trial 84 finished with value: 0.86088 and parameters: {'criterion': 'gini', 'splitter': 'random', 'max_depth': 34, 'min_samples_split': 4, 'min_samples_leaf': 2}. Best is trial 55 with value: 0.86808.\n",
            "[I 2024-08-01 16:18:50,193] Trial 85 finished with value: 0.85544 and parameters: {'criterion': 'gini', 'splitter': 'random', 'max_depth': 30, 'min_samples_split': 5, 'min_samples_leaf': 6}. Best is trial 55 with value: 0.86808.\n",
            "[I 2024-08-01 16:19:21,891] Trial 86 finished with value: 0.84816 and parameters: {'criterion': 'gini', 'splitter': 'random', 'max_depth': 36, 'min_samples_split': 3, 'min_samples_leaf': 3}. Best is trial 55 with value: 0.86808.\n",
            "[I 2024-08-01 16:19:51,891] Trial 87 finished with value: 0.86136 and parameters: {'criterion': 'gini', 'splitter': 'random', 'max_depth': 33, 'min_samples_split': 5, 'min_samples_leaf': 2}. Best is trial 55 with value: 0.86808.\n",
            "[I 2024-08-01 16:20:10,913] Trial 88 finished with value: 0.86032 and parameters: {'criterion': 'gini', 'splitter': 'random', 'max_depth': 27, 'min_samples_split': 4, 'min_samples_leaf': 10}. Best is trial 55 with value: 0.86808.\n",
            "[I 2024-08-01 16:20:42,210] Trial 89 finished with value: 0.85832 and parameters: {'criterion': 'gini', 'splitter': 'random', 'max_depth': 31, 'min_samples_split': 2, 'min_samples_leaf': 1}. Best is trial 55 with value: 0.86808.\n",
            "[I 2024-08-01 16:21:11,264] Trial 90 finished with value: 0.86008 and parameters: {'criterion': 'gini', 'splitter': 'random', 'max_depth': 32, 'min_samples_split': 8, 'min_samples_leaf': 1}. Best is trial 55 with value: 0.86808.\n",
            "[I 2024-08-01 16:21:34,925] Trial 91 finished with value: 0.86064 and parameters: {'criterion': 'gini', 'splitter': 'random', 'max_depth': 28, 'min_samples_split': 10, 'min_samples_leaf': 2}. Best is trial 55 with value: 0.86808.\n",
            "[I 2024-08-01 16:22:00,587] Trial 92 finished with value: 0.84928 and parameters: {'criterion': 'gini', 'splitter': 'random', 'max_depth': 29, 'min_samples_split': 5, 'min_samples_leaf': 4}. Best is trial 55 with value: 0.86808.\n",
            "[I 2024-08-01 16:22:29,372] Trial 93 finished with value: 0.85952 and parameters: {'criterion': 'gini', 'splitter': 'random', 'max_depth': 34, 'min_samples_split': 9, 'min_samples_leaf': 2}. Best is trial 55 with value: 0.86808.\n",
            "[I 2024-08-01 16:22:56,183] Trial 94 finished with value: 0.85136 and parameters: {'criterion': 'gini', 'splitter': 'random', 'max_depth': 32, 'min_samples_split': 12, 'min_samples_leaf': 3}. Best is trial 55 with value: 0.86808.\n",
            "[I 2024-08-01 16:23:19,168] Trial 95 finished with value: 0.85976 and parameters: {'criterion': 'gini', 'splitter': 'random', 'max_depth': 25, 'min_samples_split': 6, 'min_samples_leaf': 2}. Best is trial 55 with value: 0.86808.\n",
            "[I 2024-08-01 16:23:40,069] Trial 96 finished with value: 0.85744 and parameters: {'criterion': 'gini', 'splitter': 'random', 'max_depth': 37, 'min_samples_split': 11, 'min_samples_leaf': 16}. Best is trial 55 with value: 0.86808.\n",
            "[I 2024-08-01 16:24:06,373] Trial 97 finished with value: 0.84584 and parameters: {'criterion': 'entropy', 'splitter': 'random', 'max_depth': 30, 'min_samples_split': 6, 'min_samples_leaf': 7}. Best is trial 55 with value: 0.86808.\n",
            "[I 2024-08-01 16:24:43,115] Trial 98 finished with value: 0.86184 and parameters: {'criterion': 'gini', 'splitter': 'random', 'max_depth': 40, 'min_samples_split': 4, 'min_samples_leaf': 1}. Best is trial 55 with value: 0.86808.\n",
            "[I 2024-08-01 16:25:10,473] Trial 99 finished with value: 0.86472 and parameters: {'criterion': 'gini', 'splitter': 'random', 'max_depth': 35, 'min_samples_split': 8, 'min_samples_leaf': 3}. Best is trial 55 with value: 0.86808.\n"
          ]
        }
      ]
    },
    {
      "cell_type": "code",
      "source": [
        "# Best parameters\n",
        "print(\"Best parameters: \", study.best_params)"
      ],
      "metadata": {
        "colab": {
          "base_uri": "https://localhost:8080/"
        },
        "id": "TXJgAeMcb80D",
        "outputId": "ef4bef9e-79f5-4b2c-f9f9-7ca1c3be9d9e"
      },
      "id": "TXJgAeMcb80D",
      "execution_count": 65,
      "outputs": [
        {
          "output_type": "stream",
          "name": "stdout",
          "text": [
            "Best parameters:  {'criterion': 'gini', 'splitter': 'random', 'max_depth': 39, 'min_samples_split': 9, 'min_samples_leaf': 1}\n"
          ]
        }
      ]
    },
    {
      "cell_type": "code",
      "source": [
        "# Train and evaluate Decision Tree with best parameters\n",
        "best_params = study.best_params\n",
        "optimized_dt_classifier = DecisionTreeClassifier(\n",
        "    criterion=best_params['criterion'],\n",
        "    splitter=best_params['splitter'],\n",
        "    max_depth=best_params['max_depth'],\n",
        "    min_samples_split=best_params['min_samples_split'],\n",
        "    min_samples_leaf=best_params['min_samples_leaf'],\n",
        "    random_state=42\n",
        ")\n",
        "optimized_dt_classifier.fit(X_train_tfidf, y_train)\n",
        "y_pred_optimized_dt = optimized_dt_classifier.predict(X_test_tfidf)\n",
        "print(\"Optimized Decision Tree Classifier:\\n\", classification_report(y_test, y_pred_optimized_dt))"
      ],
      "metadata": {
        "colab": {
          "base_uri": "https://localhost:8080/"
        },
        "id": "ZNO5CEiib_qC",
        "outputId": "59f49c31-65f9-4cc4-d45a-4bc2c92e2828"
      },
      "id": "ZNO5CEiib_qC",
      "execution_count": 66,
      "outputs": [
        {
          "output_type": "stream",
          "name": "stdout",
          "text": [
            "Optimized Decision Tree Classifier:\n",
            "               precision    recall  f1-score   support\n",
            "\n",
            "           0       0.87      0.87      0.87      6260\n",
            "           1       0.87      0.87      0.87      6240\n",
            "\n",
            "    accuracy                           0.87     12500\n",
            "   macro avg       0.87      0.87      0.87     12500\n",
            "weighted avg       0.87      0.87      0.87     12500\n",
            "\n"
          ]
        }
      ]
    },
    {
      "cell_type": "markdown",
      "source": [
        "# Подход Случайный лес"
      ],
      "metadata": {
        "id": "iv0qwD5Mx_rK"
      },
      "id": "iv0qwD5Mx_rK"
    },
    {
      "cell_type": "code",
      "source": [
        "# Objective function for Optuna\n",
        "def objective(trial):\n",
        "    n_estimators = trial.suggest_int('n_estimators', 50, 180)\n",
        "    max_depth = trial.suggest_int('max_depth', 5, 30)\n",
        "    min_samples_split = trial.suggest_int('min_samples_split', 2, 14)\n",
        "    min_samples_leaf = trial.suggest_int('min_samples_leaf', 1, 14)\n",
        "    max_features = trial.suggest_categorical('max_features', ['sqrt', 'log2', None])\n",
        "\n",
        "    rf_classifier = RandomForestClassifier(\n",
        "        n_estimators=n_estimators,\n",
        "        max_depth=max_depth,\n",
        "        min_samples_split=min_samples_split,\n",
        "        min_samples_leaf=min_samples_leaf,\n",
        "        max_features=max_features,\n",
        "        random_state=42\n",
        "    )\n",
        "    rf_classifier.fit(X_train_tfidf, y_train)\n",
        "    y_pred = rf_classifier.predict(X_test_tfidf)\n",
        "    accuracy = accuracy_score(y_test, y_pred)\n",
        "    return accuracy"
      ],
      "metadata": {
        "id": "zbS9qs4_yJZ3"
      },
      "id": "zbS9qs4_yJZ3",
      "execution_count": 1,
      "outputs": []
    },
    {
      "cell_type": "code",
      "source": [
        "# Create a study and optimize it\n",
        "study = optuna.create_study(direction='maximize')\n",
        "study.optimize(objective, n_trials=100)"
      ],
      "metadata": {
        "colab": {
          "base_uri": "https://localhost:8080/"
        },
        "id": "JaMvTDCtyMz2",
        "outputId": "9acdb7f4-b67a-426a-d304-309f03d9d967"
      },
      "id": "JaMvTDCtyMz2",
      "execution_count": null,
      "outputs": [
        {
          "output_type": "stream",
          "name": "stderr",
          "text": [
            "[I 2024-08-01 17:00:09,730] A new study created in memory with name: no-name-3f07baf0-0051-4958-aee2-dcf89003c6ed\n",
            "[I 2024-08-01 17:00:15,326] Trial 0 finished with value: 0.89032 and parameters: {'n_estimators': 179, 'max_depth': 11, 'min_samples_split': 8, 'min_samples_leaf': 8, 'max_features': 'sqrt'}. Best is trial 0 with value: 0.89032.\n"
          ]
        }
      ]
    },
    {
      "cell_type": "code",
      "source": [
        "# Best parameters\n",
        "print(\"Best parameters: \", study.best_params)"
      ],
      "metadata": {
        "id": "yzTAt8KGyOiO"
      },
      "id": "yzTAt8KGyOiO",
      "execution_count": null,
      "outputs": []
    },
    {
      "cell_type": "code",
      "source": [
        "# Train and evaluate Random Forest with best parameters\n",
        "best_params = study.best_params\n",
        "optimized_rf_classifier = RandomForestClassifier(\n",
        "    n_estimators=best_params['n_estimators'],\n",
        "    max_depth=best_params['max_depth'],\n",
        "    min_samples_split=best_params['min_samples_split'],\n",
        "    min_samples_leaf=best_params['min_samples_leaf'],\n",
        "    max_features=best_params['max_features'],\n",
        "    random_state=42\n",
        ")\n",
        "optimized_rf_classifier.fit(X_train_tfidf, y_train)\n",
        "y_pred_optimized_rf = optimized_rf_classifier.predict(X_test_tfidf)\n",
        "print(\"Optimized Random Forest Classifier:\\n\", classification_report(y_test, y_pred_optimized_rf))"
      ],
      "metadata": {
        "id": "2CksbaFOyOkG"
      },
      "id": "2CksbaFOyOkG",
      "execution_count": null,
      "outputs": []
    }
  ],
  "metadata": {
    "accelerator": "GPU",
    "colab": {
      "gpuType": "T4",
      "machine_shape": "hm",
      "provenance": []
    },
    "kernelspec": {
      "display_name": "Python 3",
      "name": "python3"
    },
    "language_info": {
      "codemirror_mode": {
        "name": "ipython",
        "version": 2
      },
      "file_extension": ".py",
      "mimetype": "text/x-python",
      "name": "python",
      "nbconvert_exporter": "python",
      "pygments_lexer": "ipython2",
      "version": "2.7.6"
    }
  },
  "nbformat": 4,
  "nbformat_minor": 5
}