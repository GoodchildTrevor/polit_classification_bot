{
 "cells": [
  {
   "cell_type": "code",
   "execution_count": 1,
   "id": "5gFtkGiqwlzi",
   "metadata": {
    "colab": {
     "base_uri": "https://localhost:8080/"
    },
    "id": "5gFtkGiqwlzi",
    "outputId": "582625aa-70c9-4019-cde8-e59e75b44b4d"
   },
   "outputs": [
    {
     "name": "stdout",
     "output_type": "stream",
     "text": [
      "Requirement already satisfied: transformers in c:\\users\\user\\anaconda3\\envs\\pytorch-gpu-test\\lib\\site-packages (4.37.2)Note: you may need to restart the kernel to use updated packages.\n",
      "\n",
      "Requirement already satisfied: datasets in c:\\users\\user\\anaconda3\\envs\\pytorch-gpu-test\\lib\\site-packages (2.20.0)\n",
      "Requirement already satisfied: evaluate in c:\\users\\user\\anaconda3\\envs\\pytorch-gpu-test\\lib\\site-packages (0.4.2)\n",
      "Requirement already satisfied: accelerate in c:\\users\\user\\anaconda3\\envs\\pytorch-gpu-test\\lib\\site-packages (0.33.0)\n",
      "Requirement already satisfied: filelock in c:\\users\\user\\anaconda3\\envs\\pytorch-gpu-test\\lib\\site-packages (from transformers) (3.13.1)\n",
      "Requirement already satisfied: huggingface-hub<1.0,>=0.19.3 in c:\\users\\user\\anaconda3\\envs\\pytorch-gpu-test\\lib\\site-packages (from transformers) (0.23.1)\n",
      "Requirement already satisfied: numpy>=1.17 in c:\\users\\user\\anaconda3\\envs\\pytorch-gpu-test\\lib\\site-packages (from transformers) (1.24.3)\n",
      "Requirement already satisfied: packaging>=20.0 in c:\\users\\user\\anaconda3\\envs\\pytorch-gpu-test\\lib\\site-packages (from transformers) (23.2)\n",
      "Requirement already satisfied: pyyaml>=5.1 in c:\\users\\user\\anaconda3\\envs\\pytorch-gpu-test\\lib\\site-packages (from transformers) (6.0.1)\n",
      "Requirement already satisfied: regex!=2019.12.17 in c:\\users\\user\\anaconda3\\envs\\pytorch-gpu-test\\lib\\site-packages (from transformers) (2023.10.3)\n",
      "Requirement already satisfied: requests in c:\\users\\user\\anaconda3\\envs\\pytorch-gpu-test\\lib\\site-packages (from transformers) (2.32.2)\n",
      "Requirement already satisfied: tokenizers<0.19,>=0.14 in c:\\users\\user\\anaconda3\\envs\\pytorch-gpu-test\\lib\\site-packages (from transformers) (0.15.1)\n",
      "Requirement already satisfied: safetensors>=0.4.1 in c:\\users\\user\\anaconda3\\envs\\pytorch-gpu-test\\lib\\site-packages (from transformers) (0.4.2)\n",
      "Requirement already satisfied: tqdm>=4.27 in c:\\users\\user\\anaconda3\\envs\\pytorch-gpu-test\\lib\\site-packages (from transformers) (4.66.4)\n",
      "Requirement already satisfied: pyarrow>=15.0.0 in c:\\users\\user\\anaconda3\\envs\\pytorch-gpu-test\\lib\\site-packages (from datasets) (17.0.0)\n",
      "Requirement already satisfied: pyarrow-hotfix in c:\\users\\user\\anaconda3\\envs\\pytorch-gpu-test\\lib\\site-packages (from datasets) (0.6)\n",
      "Requirement already satisfied: dill<0.3.9,>=0.3.0 in c:\\users\\user\\anaconda3\\envs\\pytorch-gpu-test\\lib\\site-packages (from datasets) (0.3.8)\n",
      "Requirement already satisfied: pandas in c:\\users\\user\\anaconda3\\envs\\pytorch-gpu-test\\lib\\site-packages (from datasets) (2.0.3)\n",
      "Requirement already satisfied: xxhash in c:\\users\\user\\anaconda3\\envs\\pytorch-gpu-test\\lib\\site-packages (from datasets) (3.4.1)\n",
      "Requirement already satisfied: multiprocess in c:\\users\\user\\anaconda3\\envs\\pytorch-gpu-test\\lib\\site-packages (from datasets) (0.70.16)\n",
      "Requirement already satisfied: fsspec<=2024.5.0,>=2023.1.0 in c:\\users\\user\\anaconda3\\envs\\pytorch-gpu-test\\lib\\site-packages (from fsspec[http]<=2024.5.0,>=2023.1.0->datasets) (2024.3.1)\n",
      "Requirement already satisfied: aiohttp in c:\\users\\user\\anaconda3\\envs\\pytorch-gpu-test\\lib\\site-packages (from datasets) (3.9.5)\n",
      "Requirement already satisfied: psutil in c:\\users\\user\\anaconda3\\envs\\pytorch-gpu-test\\lib\\site-packages (from accelerate) (5.9.0)\n",
      "Requirement already satisfied: torch>=1.10.0 in c:\\users\\user\\anaconda3\\envs\\pytorch-gpu-test\\lib\\site-packages (from accelerate) (2.3.1)\n",
      "Requirement already satisfied: aiosignal>=1.1.2 in c:\\users\\user\\anaconda3\\envs\\pytorch-gpu-test\\lib\\site-packages (from aiohttp->datasets) (1.3.1)\n",
      "Requirement already satisfied: attrs>=17.3.0 in c:\\users\\user\\anaconda3\\envs\\pytorch-gpu-test\\lib\\site-packages (from aiohttp->datasets) (23.2.0)\n",
      "Requirement already satisfied: frozenlist>=1.1.1 in c:\\users\\user\\anaconda3\\envs\\pytorch-gpu-test\\lib\\site-packages (from aiohttp->datasets) (1.4.1)\n",
      "Requirement already satisfied: multidict<7.0,>=4.5 in c:\\users\\user\\anaconda3\\envs\\pytorch-gpu-test\\lib\\site-packages (from aiohttp->datasets) (6.0.5)\n",
      "Requirement already satisfied: yarl<2.0,>=1.0 in c:\\users\\user\\anaconda3\\envs\\pytorch-gpu-test\\lib\\site-packages (from aiohttp->datasets) (1.9.4)\n",
      "Requirement already satisfied: async-timeout<5.0,>=4.0 in c:\\users\\user\\anaconda3\\envs\\pytorch-gpu-test\\lib\\site-packages (from aiohttp->datasets) (4.0.3)\n",
      "Requirement already satisfied: typing-extensions>=3.7.4.3 in c:\\users\\user\\anaconda3\\envs\\pytorch-gpu-test\\lib\\site-packages (from huggingface-hub<1.0,>=0.19.3->transformers) (4.11.0)\n",
      "Requirement already satisfied: charset-normalizer<4,>=2 in c:\\users\\user\\anaconda3\\envs\\pytorch-gpu-test\\lib\\site-packages (from requests->transformers) (2.0.4)\n",
      "Requirement already satisfied: idna<4,>=2.5 in c:\\users\\user\\anaconda3\\envs\\pytorch-gpu-test\\lib\\site-packages (from requests->transformers) (3.7)\n",
      "Requirement already satisfied: urllib3<3,>=1.21.1 in c:\\users\\user\\anaconda3\\envs\\pytorch-gpu-test\\lib\\site-packages (from requests->transformers) (2.2.2)\n",
      "Requirement already satisfied: certifi>=2017.4.17 in c:\\users\\user\\anaconda3\\envs\\pytorch-gpu-test\\lib\\site-packages (from requests->transformers) (2024.6.2)\n",
      "Requirement already satisfied: sympy in c:\\users\\user\\anaconda3\\envs\\pytorch-gpu-test\\lib\\site-packages (from torch>=1.10.0->accelerate) (1.12)\n",
      "Requirement already satisfied: networkx in c:\\users\\user\\anaconda3\\envs\\pytorch-gpu-test\\lib\\site-packages (from torch>=1.10.0->accelerate) (3.1)\n",
      "Requirement already satisfied: jinja2 in c:\\users\\user\\anaconda3\\envs\\pytorch-gpu-test\\lib\\site-packages (from torch>=1.10.0->accelerate) (3.1.4)\n",
      "Requirement already satisfied: mkl<=2021.4.0,>=2021.1.1 in c:\\users\\user\\anaconda3\\envs\\pytorch-gpu-test\\lib\\site-packages (from torch>=1.10.0->accelerate) (2021.4.0)\n",
      "Requirement already satisfied: colorama in c:\\users\\user\\anaconda3\\envs\\pytorch-gpu-test\\lib\\site-packages (from tqdm>=4.27->transformers) (0.4.6)\n",
      "Requirement already satisfied: python-dateutil>=2.8.2 in c:\\users\\user\\anaconda3\\envs\\pytorch-gpu-test\\lib\\site-packages (from pandas->datasets) (2.9.0.post0)\n",
      "Requirement already satisfied: pytz>=2020.1 in c:\\users\\user\\anaconda3\\envs\\pytorch-gpu-test\\lib\\site-packages (from pandas->datasets) (2024.1)\n",
      "Requirement already satisfied: tzdata>=2022.1 in c:\\users\\user\\anaconda3\\envs\\pytorch-gpu-test\\lib\\site-packages (from pandas->datasets) (2024.1)\n",
      "Requirement already satisfied: intel-openmp==2021.* in c:\\users\\user\\anaconda3\\envs\\pytorch-gpu-test\\lib\\site-packages (from mkl<=2021.4.0,>=2021.1.1->torch>=1.10.0->accelerate) (2021.4.0)\n",
      "Requirement already satisfied: tbb==2021.* in c:\\users\\user\\anaconda3\\envs\\pytorch-gpu-test\\lib\\site-packages (from mkl<=2021.4.0,>=2021.1.1->torch>=1.10.0->accelerate) (2021.13.0)\n",
      "Requirement already satisfied: six>=1.5 in c:\\users\\user\\anaconda3\\envs\\pytorch-gpu-test\\lib\\site-packages (from python-dateutil>=2.8.2->pandas->datasets) (1.16.0)\n",
      "Requirement already satisfied: MarkupSafe>=2.0 in c:\\users\\user\\anaconda3\\envs\\pytorch-gpu-test\\lib\\site-packages (from jinja2->torch>=1.10.0->accelerate) (2.1.3)\n",
      "Requirement already satisfied: mpmath>=0.19 in c:\\users\\user\\anaconda3\\envs\\pytorch-gpu-test\\lib\\site-packages (from sympy->torch>=1.10.0->accelerate) (1.3.0)\n"
     ]
    }
   ],
   "source": [
    "pip install transformers datasets evaluate accelerate"
   ]
  },
  {
   "cell_type": "code",
   "execution_count": 2,
   "id": "365acc5b",
   "metadata": {},
   "outputs": [
    {
     "name": "stdout",
     "output_type": "stream",
     "text": [
      "Requirement already satisfied: transformers in c:\\users\\user\\anaconda3\\envs\\pytorch-gpu-test\\lib\\site-packages (4.37.2)\n",
      "Requirement already satisfied: filelock in c:\\users\\user\\anaconda3\\envs\\pytorch-gpu-test\\lib\\site-packages (from transformers) (3.13.1)\n",
      "Requirement already satisfied: huggingface-hub<1.0,>=0.19.3 in c:\\users\\user\\anaconda3\\envs\\pytorch-gpu-test\\lib\\site-packages (from transformers) (0.23.1)\n",
      "Requirement already satisfied: numpy>=1.17 in c:\\users\\user\\anaconda3\\envs\\pytorch-gpu-test\\lib\\site-packages (from transformers) (1.24.3)\n",
      "Requirement already satisfied: packaging>=20.0 in c:\\users\\user\\anaconda3\\envs\\pytorch-gpu-test\\lib\\site-packages (from transformers) (23.2)\n",
      "Requirement already satisfied: pyyaml>=5.1 in c:\\users\\user\\anaconda3\\envs\\pytorch-gpu-test\\lib\\site-packages (from transformers) (6.0.1)\n",
      "Requirement already satisfied: regex!=2019.12.17 in c:\\users\\user\\anaconda3\\envs\\pytorch-gpu-test\\lib\\site-packages (from transformers) (2023.10.3)\n",
      "Requirement already satisfied: requests in c:\\users\\user\\anaconda3\\envs\\pytorch-gpu-test\\lib\\site-packages (from transformers) (2.32.2)\n",
      "Requirement already satisfied: tokenizers<0.19,>=0.14 in c:\\users\\user\\anaconda3\\envs\\pytorch-gpu-test\\lib\\site-packages (from transformers) (0.15.1)\n",
      "Requirement already satisfied: safetensors>=0.4.1 in c:\\users\\user\\anaconda3\\envs\\pytorch-gpu-test\\lib\\site-packages (from transformers) (0.4.2)\n",
      "Requirement already satisfied: tqdm>=4.27 in c:\\users\\user\\anaconda3\\envs\\pytorch-gpu-test\\lib\\site-packages (from transformers) (4.66.4)\n",
      "Requirement already satisfied: fsspec>=2023.5.0 in c:\\users\\user\\anaconda3\\envs\\pytorch-gpu-test\\lib\\site-packages (from huggingface-hub<1.0,>=0.19.3->transformers) (2024.3.1)\n",
      "Requirement already satisfied: typing-extensions>=3.7.4.3 in c:\\users\\user\\anaconda3\\envs\\pytorch-gpu-test\\lib\\site-packages (from huggingface-hub<1.0,>=0.19.3->transformers) (4.11.0)\n",
      "Requirement already satisfied: colorama in c:\\users\\user\\anaconda3\\envs\\pytorch-gpu-test\\lib\\site-packages (from tqdm>=4.27->transformers) (0.4.6)\n",
      "Requirement already satisfied: charset-normalizer<4,>=2 in c:\\users\\user\\anaconda3\\envs\\pytorch-gpu-test\\lib\\site-packages (from requests->transformers) (2.0.4)\n",
      "Requirement already satisfied: idna<4,>=2.5 in c:\\users\\user\\anaconda3\\envs\\pytorch-gpu-test\\lib\\site-packages (from requests->transformers) (3.7)\n",
      "Requirement already satisfied: urllib3<3,>=1.21.1 in c:\\users\\user\\anaconda3\\envs\\pytorch-gpu-test\\lib\\site-packages (from requests->transformers) (2.2.2)\n",
      "Requirement already satisfied: certifi>=2017.4.17 in c:\\users\\user\\anaconda3\\envs\\pytorch-gpu-test\\lib\\site-packages (from requests->transformers) (2024.6.2)\n",
      "Note: you may need to restart the kernel to use updated packages.\n"
     ]
    }
   ],
   "source": [
    "pip install transformers"
   ]
  },
  {
   "cell_type": "code",
   "execution_count": 3,
   "id": "1f1c89d0",
   "metadata": {},
   "outputs": [
    {
     "name": "stdout",
     "output_type": "stream",
     "text": [
      "Collecting sklearn\n",
      "  Using cached sklearn-0.0.post12.tar.gz (2.6 kB)\n",
      "  Preparing metadata (setup.py): started\n",
      "  Preparing metadata (setup.py): finished with status 'error'\n",
      "Note: you may need to restart the kernel to use updated packages.\n"
     ]
    },
    {
     "name": "stderr",
     "output_type": "stream",
     "text": [
      "  error: subprocess-exited-with-error\n",
      "  \n",
      "  python setup.py egg_info did not run successfully.\n",
      "  exit code: 1\n",
      "  \n",
      "  [15 lines of output]\n",
      "  The 'sklearn' PyPI package is deprecated, use 'scikit-learn'\n",
      "  rather than 'sklearn' for pip commands.\n",
      "  \n",
      "  Here is how to fix this error in the main use cases:\n",
      "  - use 'pip install scikit-learn' rather than 'pip install sklearn'\n",
      "  - replace 'sklearn' by 'scikit-learn' in your pip requirements files\n",
      "    (requirements.txt, setup.py, setup.cfg, Pipfile, etc ...)\n",
      "  - if the 'sklearn' package is used by one of your dependencies,\n",
      "    it would be great if you take some time to track which package uses\n",
      "    'sklearn' instead of 'scikit-learn' and report it to their issue tracker\n",
      "  - as a last resort, set the environment variable\n",
      "    SKLEARN_ALLOW_DEPRECATED_SKLEARN_PACKAGE_INSTALL=True to avoid this error\n",
      "  \n",
      "  More information is available at\n",
      "  https://github.com/scikit-learn/sklearn-pypi-package\n",
      "  [end of output]\n",
      "  \n",
      "  note: This error originates from a subprocess, and is likely not a problem with pip.\n",
      "error: metadata-generation-failed\n",
      "\n",
      "Encountered error while generating package metadata.\n",
      "\n",
      "See above for output.\n",
      "\n",
      "note: This is an issue with the package mentioned above, not pip.\n",
      "hint: See above for details.\n"
     ]
    }
   ],
   "source": [
    "pip install sklearn"
   ]
  },
  {
   "cell_type": "code",
   "execution_count": 61,
   "id": "OOq_a-cCA1z5",
   "metadata": {
    "colab": {
     "base_uri": "https://localhost:8080/"
    },
    "id": "OOq_a-cCA1z5",
    "outputId": "045a830b-e9ba-416f-eff7-57695f403712"
   },
   "outputs": [],
   "source": [
    "from transformers import pipeline\n",
    "\n",
    "import numpy as np\n",
    "import pandas as pd\n",
    "import matplotlib.pyplot as plt\n",
    "import seaborn as sns\n",
    "from sklearn.model_selection import train_test_split\n",
    "from sklearn.metrics import f1_score, classification_report"
   ]
  },
  {
   "cell_type": "markdown",
   "id": "F8a0Cb015eSh",
   "metadata": {
    "id": "F8a0Cb015eSh"
   },
   "source": [
    "# **Датасет lenta.ru 2019-2023**"
   ]
  },
  {
   "cell_type": "code",
   "execution_count": 12,
   "id": "sCbkFHXsbJ2e",
   "metadata": {
    "id": "sCbkFHXsbJ2e"
   },
   "outputs": [],
   "source": [
    "df = pd.read_csv('lenta_ru_news_2019_2023.csv'\n",
    "#                  , sep=',', on_bad_lines='skip'\n",
    "                )"
   ]
  },
  {
   "cell_type": "code",
   "execution_count": 13,
   "id": "-Jd1mFYDAeml",
   "metadata": {
    "colab": {
     "base_uri": "https://localhost:8080/",
     "height": 293
    },
    "id": "-Jd1mFYDAeml",
    "outputId": "042e6929-7166-4878-8915-ef5bd083fa25"
   },
   "outputs": [
    {
     "data": {
      "text/html": [
       "<div>\n",
       "<style scoped>\n",
       "    .dataframe tbody tr th:only-of-type {\n",
       "        vertical-align: middle;\n",
       "    }\n",
       "\n",
       "    .dataframe tbody tr th {\n",
       "        vertical-align: top;\n",
       "    }\n",
       "\n",
       "    .dataframe thead th {\n",
       "        text-align: right;\n",
       "    }\n",
       "</style>\n",
       "<table border=\"1\" class=\"dataframe\">\n",
       "  <thead>\n",
       "    <tr style=\"text-align: right;\">\n",
       "      <th></th>\n",
       "      <th>url</th>\n",
       "      <th>title</th>\n",
       "      <th>text</th>\n",
       "      <th>topic</th>\n",
       "      <th>tags</th>\n",
       "      <th>date</th>\n",
       "    </tr>\n",
       "  </thead>\n",
       "  <tbody>\n",
       "    <tr>\n",
       "      <th>0</th>\n",
       "      <td>https://lenta.ru/news/2019/12/15/prsm/</td>\n",
       "      <td>Россиянам дали советы по выбору чая</td>\n",
       "      <td>Россиянам дали советы при выборе чая. Рекоменд...</td>\n",
       "      <td>Россия</td>\n",
       "      <td>Общество</td>\n",
       "      <td>2019-12-15</td>\n",
       "    </tr>\n",
       "    <tr>\n",
       "      <th>1</th>\n",
       "      <td>https://lenta.ru/news/2019/12/15/fb/</td>\n",
       "      <td>В Госдуме назвали японское заявление о Курилах...</td>\n",
       "      <td>Спикер Госдумы Вячеслав Володин назвал угрозой...</td>\n",
       "      <td>Россия</td>\n",
       "      <td>Политика</td>\n",
       "      <td>2019-12-15</td>\n",
       "    </tr>\n",
       "    <tr>\n",
       "      <th>2</th>\n",
       "      <td>https://lenta.ru/news/2019/12/15/kino/</td>\n",
       "      <td>Украинская ЛГБТ-активистка обвинила ню-фотогра...</td>\n",
       "      <td>Украинская ЛГБТ-активистка Виктория Гуйвик обв...</td>\n",
       "      <td>Культура</td>\n",
       "      <td>Фотография</td>\n",
       "      <td>2019-12-15</td>\n",
       "    </tr>\n",
       "    <tr>\n",
       "      <th>3</th>\n",
       "      <td>https://lenta.ru/news/2019/12/15/alba/</td>\n",
       "      <td>Полицейские застрелили порезавшего мать буйног...</td>\n",
       "      <td>В Москве полицейские застрелили мужчину при по...</td>\n",
       "      <td>Силовые структуры</td>\n",
       "      <td>Криминал</td>\n",
       "      <td>2019-12-15</td>\n",
       "    </tr>\n",
       "    <tr>\n",
       "      <th>4</th>\n",
       "      <td>https://lenta.ru/news/2019/12/15/anons/</td>\n",
       "      <td>Беглого президента Боливии решили арестовать</td>\n",
       "      <td>Исполняющая обязанности президента Боливии Жан...</td>\n",
       "      <td>Мир</td>\n",
       "      <td>Политика</td>\n",
       "      <td>2019-12-15</td>\n",
       "    </tr>\n",
       "  </tbody>\n",
       "</table>\n",
       "</div>"
      ],
      "text/plain": [
       "                                       url  \\\n",
       "0   https://lenta.ru/news/2019/12/15/prsm/   \n",
       "1     https://lenta.ru/news/2019/12/15/fb/   \n",
       "2   https://lenta.ru/news/2019/12/15/kino/   \n",
       "3   https://lenta.ru/news/2019/12/15/alba/   \n",
       "4  https://lenta.ru/news/2019/12/15/anons/   \n",
       "\n",
       "                                               title  \\\n",
       "0                Россиянам дали советы по выбору чая   \n",
       "1  В Госдуме назвали японское заявление о Курилах...   \n",
       "2  Украинская ЛГБТ-активистка обвинила ню-фотогра...   \n",
       "3  Полицейские застрелили порезавшего мать буйног...   \n",
       "4       Беглого президента Боливии решили арестовать   \n",
       "\n",
       "                                                text              topic  \\\n",
       "0  Россиянам дали советы при выборе чая. Рекоменд...             Россия   \n",
       "1  Спикер Госдумы Вячеслав Володин назвал угрозой...             Россия   \n",
       "2  Украинская ЛГБТ-активистка Виктория Гуйвик обв...           Культура   \n",
       "3  В Москве полицейские застрелили мужчину при по...  Силовые структуры   \n",
       "4  Исполняющая обязанности президента Боливии Жан...                Мир   \n",
       "\n",
       "         tags        date  \n",
       "0    Общество  2019-12-15  \n",
       "1    Политика  2019-12-15  \n",
       "2  Фотография  2019-12-15  \n",
       "3    Криминал  2019-12-15  \n",
       "4    Политика  2019-12-15  "
      ]
     },
     "execution_count": 13,
     "metadata": {},
     "output_type": "execute_result"
    }
   ],
   "source": [
    "df.head()"
   ]
  },
  {
   "cell_type": "code",
   "execution_count": 14,
   "id": "FRnDtdc2TQvO",
   "metadata": {
    "colab": {
     "base_uri": "https://localhost:8080/"
    },
    "id": "FRnDtdc2TQvO",
    "outputId": "c3a86411-a23f-4c7d-a241-2861069d6666"
   },
   "outputs": [
    {
     "name": "stdout",
     "output_type": "stream",
     "text": [
      "<class 'pandas.core.frame.DataFrame'>\n",
      "RangeIndex: 496257 entries, 0 to 496256\n",
      "Data columns (total 6 columns):\n",
      " #   Column  Non-Null Count   Dtype \n",
      "---  ------  --------------   ----- \n",
      " 0   url     496257 non-null  object\n",
      " 1   title   496255 non-null  object\n",
      " 2   text    496257 non-null  object\n",
      " 3   topic   496173 non-null  object\n",
      " 4   tags    491110 non-null  object\n",
      " 5   date    496257 non-null  object\n",
      "dtypes: object(6)\n",
      "memory usage: 22.7+ MB\n"
     ]
    }
   ],
   "source": [
    "df.info()"
   ]
  },
  {
   "cell_type": "code",
   "execution_count": 15,
   "id": "Wg6LGrNXOc4i",
   "metadata": {
    "colab": {
     "base_uri": "https://localhost:8080/"
    },
    "id": "Wg6LGrNXOc4i",
    "outputId": "e8300b12-c7be-4b2c-b9e5-0b7f785465ee"
   },
   "outputs": [],
   "source": [
    "df = df.dropna()\n",
    "df['topic'] = df['topic'].astype('category')"
   ]
  },
  {
   "cell_type": "code",
   "execution_count": 16,
   "id": "1ALuQKM1U88n",
   "metadata": {
    "colab": {
     "base_uri": "https://localhost:8080/",
     "height": 1000
    },
    "id": "1ALuQKM1U88n",
    "outputId": "0f66991f-30e2-4360-aa0c-f3b8b9666563"
   },
   "outputs": [
    {
     "data": {
      "text/plain": [
       "tags\n",
       "Политика                97275\n",
       "Общество                55367\n",
       "Украина                 33421\n",
       "Происшествия            21214\n",
       "Следствие и суд         18994\n",
       "Госэкономика            17442\n",
       "Дом                     11794\n",
       "Футбол                   9567\n",
       "Рынки                    9126\n",
       "Бизнес                   8444\n",
       "Люди                     8307\n",
       "ТВ и радио               7608\n",
       "Мир                      7563\n",
       "Кино                     7491\n",
       "Оружие                   7465\n",
       "Музыка                   7453\n",
       "Белоруссия               7053\n",
       "Явления                  6617\n",
       "Интернет                 6600\n",
       "Россия                   5703\n",
       "Бокс и ММА               5673\n",
       "Наука                    5414\n",
       "Полиция и спецслужбы     5075\n",
       "Криминал                 4838\n",
       "Закавказье               4503\n",
       "Внешний вид              4405\n",
       "Город                    4319\n",
       "Стиль                    4067\n",
       "Зимние виды              3959\n",
       "Все                      3857\n",
       "Name: count, dtype: int64"
      ]
     },
     "execution_count": 16,
     "metadata": {},
     "output_type": "execute_result"
    }
   ],
   "source": [
    "df.value_counts('tags').head(30)"
   ]
  },
  {
   "cell_type": "code",
   "execution_count": 17,
   "id": "bchFQP0KUAHp",
   "metadata": {
    "id": "bchFQP0KUAHp"
   },
   "outputs": [],
   "source": [
    "tags_to_keep = ['Политика', 'Госэкономика', 'Происшествия', 'Бизнес', 'Кино', 'Музыка', 'Внешний вид', 'Город', 'Стиль', 'Рынки', 'Футбол', 'Зимние виды']\n",
    "\n",
    "filtered_df = df[df['tags'].isin(tags_to_keep)]"
   ]
  },
  {
   "cell_type": "code",
   "execution_count": 18,
   "id": "rHrm4fZyXiKm",
   "metadata": {
    "colab": {
     "base_uri": "https://localhost:8080/"
    },
    "id": "rHrm4fZyXiKm",
    "outputId": "3dac4e9c-d6e0-48a5-9a36-92f6a239e9d3"
   },
   "outputs": [
    {
     "name": "stdout",
     "output_type": "stream",
     "text": [
      "<class 'pandas.core.frame.DataFrame'>\n",
      "Index: 194762 entries, 1 to 496256\n",
      "Data columns (total 6 columns):\n",
      " #   Column  Non-Null Count   Dtype   \n",
      "---  ------  --------------   -----   \n",
      " 0   url     194762 non-null  object  \n",
      " 1   title   194762 non-null  object  \n",
      " 2   text    194762 non-null  object  \n",
      " 3   topic   194762 non-null  category\n",
      " 4   tags    194762 non-null  object  \n",
      " 5   date    194762 non-null  object  \n",
      "dtypes: category(1), object(5)\n",
      "memory usage: 9.1+ MB\n"
     ]
    }
   ],
   "source": [
    "filtered_df.info()"
   ]
  },
  {
   "cell_type": "code",
   "execution_count": 19,
   "id": "7ONV8StrOglK",
   "metadata": {
    "colab": {
     "base_uri": "https://localhost:8080/"
    },
    "id": "7ONV8StrOglK",
    "outputId": "ef23dbff-8394-4261-d6d5-e44c6e8b3e9e"
   },
   "outputs": [
    {
     "name": "stdout",
     "output_type": "stream",
     "text": [
      "<class 'pandas.core.frame.DataFrame'>\n",
      "Index: 491110 entries, 0 to 496256\n",
      "Data columns (total 6 columns):\n",
      " #   Column  Non-Null Count   Dtype   \n",
      "---  ------  --------------   -----   \n",
      " 0   url     491110 non-null  object  \n",
      " 1   title   491110 non-null  object  \n",
      " 2   text    491110 non-null  object  \n",
      " 3   topic   491110 non-null  category\n",
      " 4   tags    491110 non-null  object  \n",
      " 5   date    491110 non-null  object  \n",
      "dtypes: category(1), object(5)\n",
      "memory usage: 23.0+ MB\n"
     ]
    },
    {
     "name": "stderr",
     "output_type": "stream",
     "text": [
      "C:\\Users\\User\\AppData\\Local\\Temp\\ipykernel_3216\\3168639129.py:1: SettingWithCopyWarning: \n",
      "A value is trying to be set on a copy of a slice from a DataFrame.\n",
      "Try using .loc[row_indexer,col_indexer] = value instead\n",
      "\n",
      "See the caveats in the documentation: https://pandas.pydata.org/pandas-docs/stable/user_guide/indexing.html#returning-a-view-versus-a-copy\n",
      "  filtered_df['is_politics'] = filtered_df['tags'].apply(lambda x: 1 if x == 'Политика' else 0)\n"
     ]
    }
   ],
   "source": [
    "filtered_df['is_politics'] = filtered_df['tags'].apply(lambda x: 1 if x == 'Политика' else 0)\n",
    "df.info()"
   ]
  },
  {
   "cell_type": "code",
   "execution_count": 20,
   "id": "8Vhk-kcadr5t",
   "metadata": {
    "id": "8Vhk-kcadr5t"
   },
   "outputs": [],
   "source": [
    "# Случайным образом отбираем 50000 строк\n",
    "sampled_df = filtered_df.sample(n=50000, random_state=42)"
   ]
  },
  {
   "cell_type": "code",
   "execution_count": 21,
   "id": "osaGk5mjO9gz",
   "metadata": {
    "id": "osaGk5mjO9gz"
   },
   "outputs": [],
   "source": [
    "# Делим данные на трейн и тест\n",
    "X_train, X_test, y_train, y_test = train_test_split(\n",
    "    sampled_df['text'], sampled_df['is_politics'], \n",
    "    test_size=0.25, random_state=42,stratify=sampled_df['is_politics']\n",
    ")"
   ]
  },
  {
   "cell_type": "markdown",
   "id": "Ssx8mqyb2Chp",
   "metadata": {
    "id": "Ssx8mqyb2Chp"
   },
   "source": [
    "# **Пример с хаггинфэйс на претренированном датасете**"
   ]
  },
  {
   "cell_type": "code",
   "execution_count": 33,
   "id": "a5ab265495d40283",
   "metadata": {
    "colab": {
     "base_uri": "https://localhost:8080/"
    },
    "id": "a5ab265495d40283",
    "outputId": "bfa93268-6bd0-4ffd-b881-b47f7864b799"
   },
   "outputs": [
    {
     "name": "stderr",
     "output_type": "stream",
     "text": [
      "C:\\Users\\User\\anaconda3\\envs\\pytorch-gpu-test\\lib\\site-packages\\huggingface_hub\\file_download.py:1132: FutureWarning: `resume_download` is deprecated and will be removed in version 1.0.0. Downloads always resume when possible. If you want to force a new download, use `force_download=True`.\n",
      "  warnings.warn(\n"
     ]
    },
    {
     "name": "stdout",
     "output_type": "stream",
     "text": [
      "{'sequence': 'Тейлор Свифт поп и кантри певица', 'labels': ['entertainment', 'environment', 'economy', 'politics'], 'scores': [0.8593404293060303, 0.05369052290916443, 0.04956693574786186, 0.03740214183926582]}\n"
     ]
    }
   ],
   "source": [
    "classifier = pipeline(\"zero-shot-classification\", model=\"MoritzLaurer/mDeBERTa-v3-base-mnli-xnli\")\n",
    "\n",
    "sequence_to_classify = \"Тейлор Свифт поп и кантри певица\"\n",
    "candidate_labels = [\"politics\", \"economy\", \"entertainment\", \"environment\"]\n",
    "\n",
    "output = classifier(sequence_to_classify, candidate_labels, multi_label=False)\n",
    "print(output)"
   ]
  },
  {
   "cell_type": "code",
   "execution_count": 51,
   "id": "ad5222c5",
   "metadata": {},
   "outputs": [
    {
     "name": "stdout",
     "output_type": "stream",
     "text": [
      "Requirement already satisfied: dask in c:\\users\\user\\anaconda3\\envs\\pytorch-gpu-test\\lib\\site-packages (2023.5.0)Note: you may need to restart the kernel to use updated packages.\n",
      "\n",
      "Requirement already satisfied: click>=8.0 in c:\\users\\user\\anaconda3\\envs\\pytorch-gpu-test\\lib\\site-packages (from dask) (8.1.7)\n",
      "Requirement already satisfied: cloudpickle>=1.5.0 in c:\\users\\user\\anaconda3\\envs\\pytorch-gpu-test\\lib\\site-packages (from dask) (3.0.0)\n",
      "Requirement already satisfied: fsspec>=2021.09.0 in c:\\users\\user\\anaconda3\\envs\\pytorch-gpu-test\\lib\\site-packages (from dask) (2024.3.1)\n",
      "Requirement already satisfied: packaging>=20.0 in c:\\users\\user\\anaconda3\\envs\\pytorch-gpu-test\\lib\\site-packages (from dask) (23.2)\n",
      "Requirement already satisfied: partd>=1.2.0 in c:\\users\\user\\anaconda3\\envs\\pytorch-gpu-test\\lib\\site-packages (from dask) (1.4.1)\n",
      "Requirement already satisfied: pyyaml>=5.3.1 in c:\\users\\user\\anaconda3\\envs\\pytorch-gpu-test\\lib\\site-packages (from dask) (6.0.1)\n",
      "Requirement already satisfied: toolz>=0.10.0 in c:\\users\\user\\anaconda3\\envs\\pytorch-gpu-test\\lib\\site-packages (from dask) (0.12.1)\n",
      "Requirement already satisfied: importlib-metadata>=4.13.0 in c:\\users\\user\\anaconda3\\envs\\pytorch-gpu-test\\lib\\site-packages (from dask) (7.0.1)\n",
      "Requirement already satisfied: colorama in c:\\users\\user\\anaconda3\\envs\\pytorch-gpu-test\\lib\\site-packages (from click>=8.0->dask) (0.4.6)\n",
      "Requirement already satisfied: zipp>=0.5 in c:\\users\\user\\anaconda3\\envs\\pytorch-gpu-test\\lib\\site-packages (from importlib-metadata>=4.13.0->dask) (3.17.0)\n",
      "Requirement already satisfied: locket in c:\\users\\user\\anaconda3\\envs\\pytorch-gpu-test\\lib\\site-packages (from partd>=1.2.0->dask) (1.0.0)\n"
     ]
    }
   ],
   "source": [
    "pip install dask"
   ]
  },
  {
   "cell_type": "code",
   "execution_count": 52,
   "id": "b5f6a920",
   "metadata": {},
   "outputs": [],
   "source": [
    "import dask.dataframe as dd\n",
    "\n",
    "def classify_batch(batch):\n",
    "    candidate_labels = [\"politics\", \"economy\", \"entertainment\", \"environment\"]\n",
    "    return batch.apply(lambda text: 1 if classifier(text, candidate_labels, multi_label=False)['labels'][0] == 'politics' else 0)\n",
    "\n",
    "def classifier_hf(series):\n",
    "    dask_series = dd.from_pandas(series, npartitions=10)\n",
    "    results = dask_series.map_partitions(classify_batch).compute()\n",
    "    return pd.Series(results, index=series.index)"
   ]
  },
  {
   "cell_type": "code",
   "execution_count": 57,
   "id": "a1255938",
   "metadata": {},
   "outputs": [],
   "source": [
    "sample = sampled_df.sample(n=1000, random_state=42)"
   ]
  },
  {
   "cell_type": "code",
   "execution_count": 58,
   "id": "bdf96545",
   "metadata": {},
   "outputs": [],
   "source": [
    "classified_data = classifier_hf(sample['text'])"
   ]
  },
  {
   "cell_type": "code",
   "execution_count": 59,
   "id": "4a9cf955",
   "metadata": {},
   "outputs": [],
   "source": [
    "f1 = f1_score(classified_data, sample['is_politics'])"
   ]
  },
  {
   "cell_type": "code",
   "execution_count": 60,
   "id": "0fd75274",
   "metadata": {},
   "outputs": [
    {
     "name": "stdout",
     "output_type": "stream",
     "text": [
      "0.7946768060836502\n"
     ]
    }
   ],
   "source": [
    "print(f1)"
   ]
  },
  {
   "cell_type": "code",
   "execution_count": 62,
   "id": "c2afa3ac",
   "metadata": {},
   "outputs": [
    {
     "data": {
      "text/plain": [
       "'              precision    recall  f1-score   support\\n\\n           0       0.75      0.80      0.77       459\\n           1       0.82      0.77      0.79       541\\n\\n    accuracy                           0.78      1000\\n   macro avg       0.78      0.79      0.78      1000\\nweighted avg       0.79      0.78      0.78      1000\\n'"
      ]
     },
     "execution_count": 62,
     "metadata": {},
     "output_type": "execute_result"
    }
   ],
   "source": [
    "classification_report(classified_data, sample['is_politics'])"
   ]
  }
 ],
 "metadata": {
  "accelerator": "GPU",
  "colab": {
   "gpuType": "T4",
   "machine_shape": "hm",
   "provenance": []
  },
  "kernelspec": {
   "display_name": "Python (pytorch-gpu)",
   "language": "python",
   "name": "pytorch-gpu"
  },
  "language_info": {
   "codemirror_mode": {
    "name": "ipython",
    "version": 3
   },
   "file_extension": ".py",
   "mimetype": "text/x-python",
   "name": "python",
   "nbconvert_exporter": "python",
   "pygments_lexer": "ipython3",
   "version": "3.8.19"
  }
 },
 "nbformat": 4,
 "nbformat_minor": 5
}
